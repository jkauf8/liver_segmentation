{
  "nbformat": 4,
  "nbformat_minor": 0,
  "metadata": {
    "colab": {
      "provenance": [],
      "machine_shape": "hm",
      "authorship_tag": "ABX9TyOFCBUFpqJVRoV7dMNVc1oy",
      "include_colab_link": true
    },
    "kernelspec": {
      "name": "python3",
      "display_name": "Python 3"
    },
    "language_info": {
      "name": "python"
    },
    "accelerator": "GPU",
    "gpuClass": "premium"
  },
  "cells": [
    {
      "cell_type": "markdown",
      "metadata": {
        "id": "view-in-github",
        "colab_type": "text"
      },
      "source": [
        "<a href=\"https://colab.research.google.com/github/jkauf8/liver_segmentation/blob/main/Deep_Learning_Liver_Segmentation.ipynb\" target=\"_parent\"><img src=\"https://colab.research.google.com/assets/colab-badge.svg\" alt=\"Open In Colab\"/></a>"
      ]
    },
    {
      "cell_type": "markdown",
      "source": [
        "The Purpose of this Code is to Utilize a U-Net Deep Learning Model to Automatically Segment Livers"
      ],
      "metadata": {
        "id": "Tp4ugh9xqAnX"
      }
    },
    {
      "cell_type": "markdown",
      "source": [
        "Slides for the data, the annotations, the prepocessing, the network structure, loss function, training results, and testing results "
      ],
      "metadata": {
        "id": "ePjcNtfekiCf"
      }
    },
    {
      "cell_type": "code",
      "source": [],
      "metadata": {
        "id": "aOcEKHQ0kgyM"
      },
      "execution_count": null,
      "outputs": []
    },
    {
      "cell_type": "code",
      "source": [],
      "metadata": {
        "id": "YYs5-CSHkgk1"
      },
      "execution_count": null,
      "outputs": []
    },
    {
      "cell_type": "code",
      "source": [
        "import sys\n",
        "!{sys.executable} -m pip install pydicom"
      ],
      "metadata": {
        "colab": {
          "base_uri": "https://localhost:8080/"
        },
        "id": "IoY2dEim8rE7",
        "outputId": "47830dd8-50af-4689-cc17-b22790a570c6"
      },
      "execution_count": 1,
      "outputs": [
        {
          "output_type": "stream",
          "name": "stdout",
          "text": [
            "Looking in indexes: https://pypi.org/simple, https://us-python.pkg.dev/colab-wheels/public/simple/\n",
            "Collecting pydicom\n",
            "  Downloading pydicom-2.3.1-py3-none-any.whl (2.0 MB)\n",
            "\u001b[2K     \u001b[90m━━━━━━━━━━━━━━━━━━━━━━━━━━━━━━━━━━━━━━━━\u001b[0m \u001b[32m2.0/2.0 MB\u001b[0m \u001b[31m65.6 MB/s\u001b[0m eta \u001b[36m0:00:00\u001b[0m\n",
            "\u001b[?25hInstalling collected packages: pydicom\n",
            "Successfully installed pydicom-2.3.1\n"
          ]
        }
      ]
    },
    {
      "cell_type": "code",
      "execution_count": 2,
      "metadata": {
        "id": "keriWC8l7AXZ"
      },
      "outputs": [],
      "source": [
        "from PIL import Image\n",
        "from matplotlib import pyplot as plt\n",
        "import numpy as np\n",
        "import os\n",
        "import cv2\n",
        "from keras.utils import normalize\n",
        "from sklearn.preprocessing import MinMaxScaler\n",
        "from keras.optimizers import Adam\n",
        "from sklearn.model_selection import train_test_split\n",
        "import nibabel as nib\n",
        "import re\n",
        "import pydicom as dicom\n",
        "from keras.layers import Input, Conv2D, MaxPooling2D, UpSampling2D, Concatenate, Conv2DTranspose, BatchNormalization, Activation, MaxPool2D, Dropout\n",
        "from keras.optimizers import Adam\n",
        "from keras.models import Model\n",
        "from skimage.transform import resize\n",
        "import tensorflow as tf\n",
        "from tensorflow import keras\n",
        "from keras import backend as K\n",
        "from sklearn.metrics import f1_score"
      ]
    },
    {
      "cell_type": "code",
      "source": [
        "from google.colab import drive\n",
        "drive.mount('/content/drive')"
      ],
      "metadata": {
        "colab": {
          "base_uri": "https://localhost:8080/"
        },
        "id": "-EKbPViA-DoV",
        "outputId": "7e3e41bf-e720-481e-eedd-c510444f5197"
      },
      "execution_count": 3,
      "outputs": [
        {
          "output_type": "stream",
          "name": "stdout",
          "text": [
            "Mounted at /content/drive\n"
          ]
        }
      ]
    },
    {
      "cell_type": "markdown",
      "source": [
        "Read in liver masks"
      ],
      "metadata": {
        "id": "W3DM4lpXL23G"
      }
    },
    {
      "cell_type": "code",
      "source": [
        "directory = '/content/drive/My Drive/Radiology Research/masks'\n",
        "masks=[]\n",
        "for filename in sorted(os.listdir(directory)):\n",
        "  for files in sorted((os.listdir(os.path.join(directory, filename)))):\n",
        "    file=os.path.join(directory, filename, files)\n",
        "    image=nib.load(file).get_fdata()\n",
        "    scaled_image = np.rot90(np.fliplr(np.uint8(image)))\n",
        "    masks.append(scaled_image)"
      ],
      "metadata": {
        "id": "yjeq1XYeNLQ6"
      },
      "execution_count": 4,
      "outputs": []
    },
    {
      "cell_type": "code",
      "source": [
        "print(len(masks))\n",
        "print(masks[1].shape)\n",
        "print(len(masks[1]))"
      ],
      "metadata": {
        "colab": {
          "base_uri": "https://localhost:8080/"
        },
        "id": "BhMZIPI4C-h3",
        "outputId": "bbc9e1f3-1f82-4753-ea4f-b82cfd1d30f2"
      },
      "execution_count": 5,
      "outputs": [
        {
          "output_type": "stream",
          "name": "stdout",
          "text": [
            "42\n",
            "(176, 256, 120)\n",
            "176\n"
          ]
        }
      ]
    },
    {
      "cell_type": "code",
      "source": [
        "temp=masks"
      ],
      "metadata": {
        "id": "iJsQ6lz9wLOV"
      },
      "execution_count": 6,
      "outputs": []
    },
    {
      "cell_type": "code",
      "source": [
        "new=[]\n",
        "for i in range(len(temp)):\n",
        "  for j in range(temp[i].shape[2]):\n",
        "    new.append(temp[i][:,:,j])"
      ],
      "metadata": {
        "id": "QK6bJM83wNp4"
      },
      "execution_count": 7,
      "outputs": []
    },
    {
      "cell_type": "code",
      "source": [],
      "metadata": {
        "id": "XDZ8IeLewNZG"
      },
      "execution_count": 7,
      "outputs": []
    },
    {
      "cell_type": "markdown",
      "source": [
        "Read in dicom images"
      ],
      "metadata": {
        "id": "-eXsqjdQMDbq"
      }
    },
    {
      "cell_type": "code",
      "source": [
        "images=[]\n",
        "final_images=[]\n",
        "directory2 = '/content/drive/My Drive/Radiology Research/images'\n",
        "for filename in sorted(os.listdir(directory2)):\n",
        "  for files in sorted(int(i) for i in (os.listdir(os.path.join(directory2, filename)))):\n",
        "    for image in sorted(os.listdir(os.path.join(directory2,filename,str(files))),reverse=True):\n",
        "      if image.endswith('.dcm'):\n",
        "          ds = dicom.dcmread(os.path.join(directory2, filename, str(files), image))\n",
        "          image=ds.pixel_array.astype(float)\n",
        "          scaled_image = (np.maximum(image, 0) / image.max()) * 255.0\n",
        "          scaled_image = np.uint8(scaled_image)\n",
        "          #final_image = Image.fromarray(scaled_image)\n",
        "          images.append(scaled_image)\n",
        "    final_images.append(images)\n",
        "    images=[]"
      ],
      "metadata": {
        "id": "UE1cZ364BsBv"
      },
      "execution_count": 8,
      "outputs": []
    },
    {
      "cell_type": "code",
      "source": [
        "len(final_images)"
      ],
      "metadata": {
        "colab": {
          "base_uri": "https://localhost:8080/"
        },
        "id": "C_ksm3nF_Huu",
        "outputId": "90026b64-390f-4d73-d2d3-6f1b8a53d787"
      },
      "execution_count": 9,
      "outputs": [
        {
          "output_type": "execute_result",
          "data": {
            "text/plain": [
              "42"
            ]
          },
          "metadata": {},
          "execution_count": 9
        }
      ]
    },
    {
      "cell_type": "code",
      "source": [
        "final_images[1][1].shape"
      ],
      "metadata": {
        "colab": {
          "base_uri": "https://localhost:8080/"
        },
        "id": "1BHsbZotvzNV",
        "outputId": "1e6836db-4794-492e-e91a-e4966afc5f9e"
      },
      "execution_count": 10,
      "outputs": [
        {
          "output_type": "execute_result",
          "data": {
            "text/plain": [
              "(176, 256)"
            ]
          },
          "metadata": {},
          "execution_count": 10
        }
      ]
    },
    {
      "cell_type": "code",
      "source": [
        "len(final_images[0])"
      ],
      "metadata": {
        "colab": {
          "base_uri": "https://localhost:8080/"
        },
        "id": "AXqvejAtcPXn",
        "outputId": "d112b0db-1576-4f41-b4f7-29a0cd8de360"
      },
      "execution_count": 11,
      "outputs": [
        {
          "output_type": "execute_result",
          "data": {
            "text/plain": [
              "120"
            ]
          },
          "metadata": {},
          "execution_count": 11
        }
      ]
    },
    {
      "cell_type": "markdown",
      "source": [
        "Normalize image values"
      ],
      "metadata": {
        "id": "G6IoVyC6mxY7"
      }
    },
    {
      "cell_type": "code",
      "source": [
        "for i in range(len(final_images)):\n",
        "  for j in range(len(final_images[i])):\n",
        "    final_images[i][j]=cv2.normalize(final_images[i][j], None, alpha=0, beta=1, norm_type=cv2.NORM_MINMAX, dtype=cv2.CV_32F)"
      ],
      "metadata": {
        "id": "N9nTAu-mmwp5"
      },
      "execution_count": 12,
      "outputs": []
    },
    {
      "cell_type": "markdown",
      "source": [
        "Example Image"
      ],
      "metadata": {
        "id": "CqzaudEYndqn"
      }
    },
    {
      "cell_type": "code",
      "source": [
        "test = final_images[0][100] #second index is slice number \n",
        "plt.imshow(test, cmap=\"gray\")\n",
        "plt.show()"
      ],
      "metadata": {
        "colab": {
          "base_uri": "https://localhost:8080/",
          "height": 269
        },
        "id": "rjTSkKDF9EBP",
        "outputId": "e8ad0c6a-e836-4048-9a34-f63bb2eee586"
      },
      "execution_count": 13,
      "outputs": [
        {
          "output_type": "display_data",
          "data": {
            "text/plain": [
              "<Figure size 432x288 with 1 Axes>"
            ],
            "image/png": "[encoded data removed]"
          },
          "metadata": {
            "needs_background": "light"
          }
        }
      ]
    },
    {
      "cell_type": "markdown",
      "source": [
        "Example Mask"
      ],
      "metadata": {
        "id": "b9awbtA6niFH"
      }
    },
    {
      "cell_type": "code",
      "source": [
        "test = masks[0][:,:,100]\n",
        "plt.imshow(test, cmap=\"gray\")\n",
        "plt.show()"
      ],
      "metadata": {
        "colab": {
          "base_uri": "https://localhost:8080/",
          "height": 269
        },
        "id": "joXkgIes-EAe",
        "outputId": "eb9c442f-4cf4-4bae-cebf-05b1e1631fb2"
      },
      "execution_count": 14,
      "outputs": [
        {
          "output_type": "display_data",
          "data": {
            "text/plain": [
              "<Figure size 432x288 with 1 Axes>"
            ],
            "image/png": "[encoded data removed]"
          },
          "metadata": {
            "needs_background": "light"
          }
        }
      ]
    },
    {
      "cell_type": "code",
      "source": [
        "\n",
        "def conv_block(input, num_filters):\n",
        "  #add BatchNormalization and Activation layers \n",
        "  x=Conv2D(num_filters, 3, padding='same')(input)\n",
        "  x=BatchNormalization(x)\n",
        "  x=Dropout(0.2)(x)\n",
        "  x=Activation('relu')\n",
        "  x=Conv2D(num_filters, 3, padding='same')(input)\n",
        "  x=Dropout(0.2)(x)\n",
        "  x=BatchNormalization(x)\n",
        "  x=Activation('relu')\n",
        "\n",
        "  return x\n"
      ],
      "metadata": {
        "id": "7e6--Kw8MIzZ"
      },
      "execution_count": 15,
      "outputs": []
    },
    {
      "cell_type": "code",
      "source": [
        "def encoder_block(input, num_filters):\n",
        "  x=conv_block(input, num_filters)\n",
        "  p=MaxPool2D((2,2))(x)\n",
        "  return x,p"
      ],
      "metadata": {
        "id": "cFbHAowUOUs7"
      },
      "execution_count": 16,
      "outputs": []
    },
    {
      "cell_type": "code",
      "source": [
        "def decoder_block(input, skip_features, num_filters):\n",
        "  x=Conv2DTranspose(num_filters, (2,2), strides=2, padding='same')(input)\n",
        "  x=Concatenate()([x, skip_features])\n",
        "  x=conv_block(x,num_filters)\n",
        "  return x"
      ],
      "metadata": {
        "id": "u7TrghQPOzg4"
      },
      "execution_count": 17,
      "outputs": []
    },
    {
      "cell_type": "code",
      "source": [
        "def unet(input_shape):\n",
        "  #start with 16 filters\n",
        "  inputs=Input(input_shape)\n",
        "  s1, p1 = encoder_block(inputs, 16)\n",
        "  s2, p2 = encoder_block(p1, 32)\n",
        "  s3, p3 = encoder_block(p2, 64)\n",
        "  s4, p4 = encoder_block(p3, 128)\n",
        "\n",
        "  b1 = conv_block(p4, 256) \n",
        "\n",
        "  d1 = decoder_block(b1, s4, 128)\n",
        "  d2 = decoder_block(d1, s3, 64)\n",
        "  d3 = decoder_block(d2, s2, 32)\n",
        "  d4 = decoder_block(d3, s1, 16)\n",
        "\n",
        "  outputs = Conv2D(1,1, padding='same', activation='sigmoid')(d4)\n",
        "\n",
        "  model=Model(inputs, outputs, name='UNET')\n",
        "  return model"
      ],
      "metadata": {
        "id": "qoBZpBBXO59I"
      },
      "execution_count": 18,
      "outputs": []
    },
    {
      "cell_type": "markdown",
      "source": [
        "Define image dimensions"
      ],
      "metadata": {
        "id": "9R8U9Ip8xxF7"
      }
    },
    {
      "cell_type": "code",
      "source": [
        "IMG_WIDTH=256 #176 original (should we do 128x128)\n",
        "IMG_HEIGHT=176 #256 original\n",
        "IMG_CHANNELS = 1"
      ],
      "metadata": {
        "id": "3ZQSMwXGxy-p"
      },
      "execution_count": 19,
      "outputs": []
    },
    {
      "cell_type": "code",
      "source": [
        "# add callbacks, model checkpoint\n",
        "# crop first then downsample "
      ],
      "metadata": {
        "id": "6XA75N137xMM"
      },
      "execution_count": 20,
      "outputs": []
    },
    {
      "cell_type": "code",
      "source": [
        "X_train, X_test, y_train, y_test = train_test_split(final_images, masks, test_size=0.20, random_state=42) # check for class imbalance \n",
        "# potenitally remove masks that are blank "
      ],
      "metadata": {
        "id": "uh7SBCzvsyFy"
      },
      "execution_count": 21,
      "outputs": []
    },
    {
      "cell_type": "code",
      "source": [
        "'''\n",
        "function to unravel the images contained in multidimensional list and place them in one-dimensional list \n",
        "'''\n",
        "\n",
        "def unravel_image_list(lister):\n",
        "  new=[]\n",
        "  for i in range(len(lister)):\n",
        "    for j in range(len(lister[i])):\n",
        "      new.append(lister[i][j])\n",
        "\n",
        "  return new "
      ],
      "metadata": {
        "id": "aGDHmj-AVPW-"
      },
      "execution_count": 22,
      "outputs": []
    },
    {
      "cell_type": "code",
      "source": [
        "def unravel_mask_list(lister):\n",
        "  new=[]\n",
        "  for i in range(len(lister)):\n",
        "    for j in range(lister[i].shape[2]):\n",
        "      new.append(lister[i][:,:,j])\n",
        "\n",
        "  return new "
      ],
      "metadata": {
        "id": "CK6RGEoJShPa"
      },
      "execution_count": 23,
      "outputs": []
    },
    {
      "cell_type": "code",
      "source": [
        "X_train=unravel_image_list(X_train)\n",
        "X_test=unravel_image_list(X_test)\n",
        "\n",
        "y_train=unravel_mask_list(y_train)\n",
        "y_test=unravel_mask_list(y_test)"
      ],
      "metadata": {
        "id": "45bBEFM_Vm7S"
      },
      "execution_count": 24,
      "outputs": []
    },
    {
      "cell_type": "code",
      "source": [
        "test = X_train[80]\n",
        "plt.imshow(test, cmap=\"gray\")\n",
        "plt.show()"
      ],
      "metadata": {
        "colab": {
          "base_uri": "https://localhost:8080/",
          "height": 269
        },
        "id": "cvA4ebV2T1jk",
        "outputId": "2e3b5f6f-6575-452b-dc52-592dd1d990be"
      },
      "execution_count": 25,
      "outputs": [
        {
          "output_type": "display_data",
          "data": {
            "text/plain": [
              "<Figure size 432x288 with 1 Axes>"
            ],
            "image/png": "[encoded data removed]"
          },
          "metadata": {
            "needs_background": "light"
          }
        }
      ]
    },
    {
      "cell_type": "markdown",
      "source": [
        "Resize Images"
      ],
      "metadata": {
        "id": "ZrSy1Rlof6JV"
      }
    },
    {
      "cell_type": "code",
      "source": [
        "X_train2=[]\n",
        "for i in X_train:\n",
        "  X_train2.append(resize(i, (176, 256)))\n",
        "\n",
        "X_test2=[]\n",
        "for i in X_test:\n",
        "  X_test2.append(resize(i, (176, 256)))\n",
        "\n",
        "\n",
        "y_train2=[]\n",
        "for i in y_train:\n",
        "  y_train2.append(resize(i, (176, 256)))\n",
        "\n",
        "y_test2=[]\n",
        "for i in y_test:\n",
        "  y_test2.append(resize(i, (176, 256)))"
      ],
      "metadata": {
        "id": "2JdWoO6ka6v9"
      },
      "execution_count": 26,
      "outputs": []
    },
    {
      "cell_type": "code",
      "source": [
        "# dice index measures the overlap between manual and automatic segmentation "
      ],
      "metadata": {
        "id": "dnN-OLGCR4jP"
      },
      "execution_count": 27,
      "outputs": []
    },
    {
      "cell_type": "code",
      "source": [
        "def dice_coef(y_true, y_pred):\n",
        "    y_true_f = K.flatten(y_true)\n",
        "    y_pred_f = K.flatten(y_pred)\n",
        "    intersection = K.sum(y_true_f * y_pred_f)\n",
        "    return (2. * intersection + 1) / (K.sum(y_true_f) + K.sum(y_pred_f) + 1)\n",
        "\n",
        "def dice_coef_loss(y_true, y_pred):\n",
        "    return -dice_coef(y_true, y_pred)"
      ],
      "metadata": {
        "id": "bwRu-mwTNeay"
      },
      "execution_count": 28,
      "outputs": []
    },
    {
      "cell_type": "code",
      "source": [
        "tf.keras.utils.get_custom_objects()['dice_coef'] = dice_coef\n",
        "tf.keras.utils.get_custom_objects()['dice_coef_loss'] = dice_coef_loss"
      ],
      "metadata": {
        "id": "0oDZu_iDBQMh"
      },
      "execution_count": 29,
      "outputs": []
    },
    {
      "cell_type": "code",
      "source": [
        "class dice_coef_loss():\n",
        "  def __init__(self):\n",
        "    super().__init__()\n",
        "  def dice_coef_loss(self, y_true, y_pred):\n",
        "    return -dice_coef(y_true, y_pred)\n",
        "  def dice_coef(y_true, y_pred):\n",
        "    y_true_f = tf.keras.layers.Flatten()(y_true)\n",
        "    y_pred_f = tf.keras.layers.Flatten()(y_pred)\n",
        "    intersection = tf.keras.metrics.Sum()(y_true_f * y_pred_f)\n",
        "    return (2. * intersection + 1) / (tf.keras.metrics.Sum()(y_true_f) + tf.keras.metrics.Sum()(y_pred_f) + 1)\n"
      ],
      "metadata": {
        "id": "p5Dwq1uwbMd0"
      },
      "execution_count": 30,
      "outputs": []
    },
    {
      "cell_type": "code",
      "source": [
        "inputs = tf.keras.layers.Input((IMG_HEIGHT, IMG_WIDTH, IMG_CHANNELS))\n",
        "s = tf.keras.layers.Lambda(lambda x: x / 255)(inputs)\n",
        "\n",
        "# try only using dropout at deepest layer \n",
        "\n",
        "#Contraction path\n",
        "c1 = tf.keras.layers.Conv2D(16, (3, 3), activation='relu', kernel_initializer='he_normal', padding='same')(s)\n",
        "c1 = tf.keras.layers.BatchNormalization()(c1)\n",
        "c1 = tf.keras.layers.Dropout(0.1)(c1)\n",
        "c1 = tf.keras.layers.Conv2D(16, (3, 3), activation='relu', kernel_initializer='he_normal', padding='same')(c1)\n",
        "p1 = tf.keras.layers.MaxPooling2D((2, 2))(c1)\n",
        "\n",
        "c2 = tf.keras.layers.Conv2D(32, (3, 3), activation='relu', kernel_initializer='he_normal', padding='same')(p1)\n",
        "c2=  tf.keras.layers.BatchNormalization()(c2)\n",
        "c2 = tf.keras.layers.Dropout(0.1)(c2)\n",
        "c2 = tf.keras.layers.Conv2D(32, (3, 3), activation='relu', kernel_initializer='he_normal', padding='same')(c2)\n",
        "p2 = tf.keras.layers.MaxPooling2D((2, 2))(c2)\n",
        " \n",
        "c3 = tf.keras.layers.Conv2D(64, (3, 3), activation='relu', kernel_initializer='he_normal', padding='same')(p2)\n",
        "c3 = tf.keras.layers.BatchNormalization()(c3)\n",
        "c3 = tf.keras.layers.Dropout(0.2)(c3)\n",
        "c3 = tf.keras.layers.Conv2D(64, (3, 3), activation='relu', kernel_initializer='he_normal', padding='same')(c3)\n",
        "p3 = tf.keras.layers.MaxPooling2D((2, 2))(c3)\n",
        " \n",
        "c4 = tf.keras.layers.Conv2D(128, (3, 3), activation='relu', kernel_initializer='he_normal', padding='same')(p3)\n",
        "c4 = tf.keras.layers.BatchNormalization()(c4)\n",
        "c4 = tf.keras.layers.Dropout(0.2)(c4)\n",
        "c4 = tf.keras.layers.Conv2D(128, (3, 3), activation='relu', kernel_initializer='he_normal', padding='same')(c4)\n",
        "p4 = tf.keras.layers.MaxPooling2D(pool_size=(2, 2))(c4)\n",
        " \n",
        "c5 = tf.keras.layers.Conv2D(256, (3, 3), activation='relu', kernel_initializer='he_normal', padding='same')(p4)\n",
        "c5 = tf.keras.layers.BatchNormalization()(c5)\n",
        "c5 = tf.keras.layers.Dropout(0.3)(c5)\n",
        "c5 = tf.keras.layers.Conv2D(256, (3, 3), activation='relu', kernel_initializer='he_normal', padding='same')(c5)\n",
        "\n",
        "#Expansive path \n",
        "u6 = tf.keras.layers.Conv2DTranspose(128, (2, 2), strides=(2, 2), padding='same')(c5)\n",
        "u6 = tf.keras.layers.concatenate([u6, c4])\n",
        "c6 = tf.keras.layers.Conv2D(128, (3, 3), activation='relu', kernel_initializer='he_normal', padding='same')(u6)\n",
        "c6 = tf.keras.layers.BatchNormalization()(c6)\n",
        "c6 = tf.keras.layers.Dropout(0.2)(c6)\n",
        "c6 = tf.keras.layers.Conv2D(128, (3, 3), activation='relu', kernel_initializer='he_normal', padding='same')(c6)\n",
        " \n",
        "u7 = tf.keras.layers.Conv2DTranspose(64, (2, 2), strides=(2, 2), padding='same')(c6)\n",
        "u7 = tf.keras.layers.concatenate([u7, c3])\n",
        "c7 = tf.keras.layers.Conv2D(64, (3, 3), activation='relu', kernel_initializer='he_normal', padding='same')(u7)\n",
        "c7 = tf.keras.layers.BatchNormalization()(c7)\n",
        "c7 = tf.keras.layers.Dropout(0.2)(c7)\n",
        "c7 = tf.keras.layers.Conv2D(64, (3, 3), activation='relu', kernel_initializer='he_normal', padding='same')(c7)\n",
        " \n",
        "u8 = tf.keras.layers.Conv2DTranspose(32, (2, 2), strides=(2, 2), padding='same')(c7)\n",
        "u8 = tf.keras.layers.concatenate([u8, c2])\n",
        "c8 = tf.keras.layers.Conv2D(32, (3, 3), activation='relu', kernel_initializer='he_normal', padding='same')(u8)\n",
        "c8 = tf.keras.layers.BatchNormalization()(c8)\n",
        "c8 = tf.keras.layers.Dropout(0.1)(c8)\n",
        "c8 = tf.keras.layers.Conv2D(32, (3, 3), activation='relu', kernel_initializer='he_normal', padding='same')(c8)\n",
        " \n",
        "u9 = tf.keras.layers.Conv2DTranspose(16, (2, 2), strides=(2, 2), padding='same')(c8)\n",
        "u9 = tf.keras.layers.concatenate([u9, c1], axis=3)\n",
        "c9 = tf.keras.layers.Conv2D(16, (3, 3), activation='relu', kernel_initializer='he_normal', padding='same')(u9)\n",
        "c9 = tf.keras.layers.BatchNormalization()(c9)\n",
        "c9 = tf.keras.layers.Dropout(0.1)(c9)\n",
        "c9 = tf.keras.layers.Conv2D(16, (3, 3), activation='relu', kernel_initializer='he_normal', padding='same')(c9)\n",
        " \n",
        "outputs = tf.keras.layers.Conv2D(1, (1, 1), activation='sigmoid')(c9)\n",
        " \n",
        "model = tf.keras.Model(inputs=[inputs], outputs=[outputs])\n",
        "model.compile(optimizer='adadelta', loss='dice_coef_loss', metrics=['dice_coef']) # f1 score, similarity coefficient, Adadelta optimizer, dice for metric and loss function \n",
        "model.summary()"
      ],
      "metadata": {
        "colab": {
          "base_uri": "https://localhost:8080/"
        },
        "id": "HxLaB4f2syOp",
        "outputId": "0acc3a22-95d9-4869-a6b4-32befaa0c248"
      },
      "execution_count": 31,
      "outputs": [
        {
          "output_type": "stream",
          "name": "stdout",
          "text": [
            "Model: \"model\"\n",
            "__________________________________________________________________________________________________\n",
            " Layer (type)                   Output Shape         Param #     Connected to                     \n",
            "==================================================================================================\n",
            " input_1 (InputLayer)           [(None, 176, 256, 1  0           []                               \n",
            "                                )]                                                                \n",
            "                                                                                                  \n",
            " lambda (Lambda)                (None, 176, 256, 1)  0           ['input_1[0][0]']                \n",
            "                                                                                                  \n",
            " conv2d (Conv2D)                (None, 176, 256, 16  160         ['lambda[0][0]']                 \n",
            "                                )                                                                 \n",
            "                                                                                                  \n",
            " batch_normalization (BatchNorm  (None, 176, 256, 16  64         ['conv2d[0][0]']                 \n",
            " alization)                     )                                                                 \n",
            "                                                                                                  \n",
            " dropout (Dropout)              (None, 176, 256, 16  0           ['batch_normalization[0][0]']    \n",
            "                                )                                                                 \n",
            "                                                                                                  \n",
            " conv2d_1 (Conv2D)              (None, 176, 256, 16  2320        ['dropout[0][0]']                \n",
            "                                )                                                                 \n",
            "                                                                                                  \n",
            " max_pooling2d (MaxPooling2D)   (None, 88, 128, 16)  0           ['conv2d_1[0][0]']               \n",
            "                                                                                                  \n",
            " conv2d_2 (Conv2D)              (None, 88, 128, 32)  4640        ['max_pooling2d[0][0]']          \n",
            "                                                                                                  \n",
            " batch_normalization_1 (BatchNo  (None, 88, 128, 32)  128        ['conv2d_2[0][0]']               \n",
            " rmalization)                                                                                     \n",
            "                                                                                                  \n",
            " dropout_1 (Dropout)            (None, 88, 128, 32)  0           ['batch_normalization_1[0][0]']  \n",
            "                                                                                                  \n",
            " conv2d_3 (Conv2D)              (None, 88, 128, 32)  9248        ['dropout_1[0][0]']              \n",
            "                                                                                                  \n",
            " max_pooling2d_1 (MaxPooling2D)  (None, 44, 64, 32)  0           ['conv2d_3[0][0]']               \n",
            "                                                                                                  \n",
            " conv2d_4 (Conv2D)              (None, 44, 64, 64)   18496       ['max_pooling2d_1[0][0]']        \n",
            "                                                                                                  \n",
            " batch_normalization_2 (BatchNo  (None, 44, 64, 64)  256         ['conv2d_4[0][0]']               \n",
            " rmalization)                                                                                     \n",
            "                                                                                                  \n",
            " dropout_2 (Dropout)            (None, 44, 64, 64)   0           ['batch_normalization_2[0][0]']  \n",
            "                                                                                                  \n",
            " conv2d_5 (Conv2D)              (None, 44, 64, 64)   36928       ['dropout_2[0][0]']              \n",
            "                                                                                                  \n",
            " max_pooling2d_2 (MaxPooling2D)  (None, 22, 32, 64)  0           ['conv2d_5[0][0]']               \n",
            "                                                                                                  \n",
            " conv2d_6 (Conv2D)              (None, 22, 32, 128)  73856       ['max_pooling2d_2[0][0]']        \n",
            "                                                                                                  \n",
            " batch_normalization_3 (BatchNo  (None, 22, 32, 128)  512        ['conv2d_6[0][0]']               \n",
            " rmalization)                                                                                     \n",
            "                                                                                                  \n",
            " dropout_3 (Dropout)            (None, 22, 32, 128)  0           ['batch_normalization_3[0][0]']  \n",
            "                                                                                                  \n",
            " conv2d_7 (Conv2D)              (None, 22, 32, 128)  147584      ['dropout_3[0][0]']              \n",
            "                                                                                                  \n",
            " max_pooling2d_3 (MaxPooling2D)  (None, 11, 16, 128)  0          ['conv2d_7[0][0]']               \n",
            "                                                                                                  \n",
            " conv2d_8 (Conv2D)              (None, 11, 16, 256)  295168      ['max_pooling2d_3[0][0]']        \n",
            "                                                                                                  \n",
            " batch_normalization_4 (BatchNo  (None, 11, 16, 256)  1024       ['conv2d_8[0][0]']               \n",
            " rmalization)                                                                                     \n",
            "                                                                                                  \n",
            " dropout_4 (Dropout)            (None, 11, 16, 256)  0           ['batch_normalization_4[0][0]']  \n",
            "                                                                                                  \n",
            " conv2d_9 (Conv2D)              (None, 11, 16, 256)  590080      ['dropout_4[0][0]']              \n",
            "                                                                                                  \n",
            " conv2d_transpose (Conv2DTransp  (None, 22, 32, 128)  131200     ['conv2d_9[0][0]']               \n",
            " ose)                                                                                             \n",
            "                                                                                                  \n",
            " concatenate (Concatenate)      (None, 22, 32, 256)  0           ['conv2d_transpose[0][0]',       \n",
            "                                                                  'conv2d_7[0][0]']               \n",
            "                                                                                                  \n",
            " conv2d_10 (Conv2D)             (None, 22, 32, 128)  295040      ['concatenate[0][0]']            \n",
            "                                                                                                  \n",
            " batch_normalization_5 (BatchNo  (None, 22, 32, 128)  512        ['conv2d_10[0][0]']              \n",
            " rmalization)                                                                                     \n",
            "                                                                                                  \n",
            " dropout_5 (Dropout)            (None, 22, 32, 128)  0           ['batch_normalization_5[0][0]']  \n",
            "                                                                                                  \n",
            " conv2d_11 (Conv2D)             (None, 22, 32, 128)  147584      ['dropout_5[0][0]']              \n",
            "                                                                                                  \n",
            " conv2d_transpose_1 (Conv2DTran  (None, 44, 64, 64)  32832       ['conv2d_11[0][0]']              \n",
            " spose)                                                                                           \n",
            "                                                                                                  \n",
            " concatenate_1 (Concatenate)    (None, 44, 64, 128)  0           ['conv2d_transpose_1[0][0]',     \n",
            "                                                                  'conv2d_5[0][0]']               \n",
            "                                                                                                  \n",
            " conv2d_12 (Conv2D)             (None, 44, 64, 64)   73792       ['concatenate_1[0][0]']          \n",
            "                                                                                                  \n",
            " batch_normalization_6 (BatchNo  (None, 44, 64, 64)  256         ['conv2d_12[0][0]']              \n",
            " rmalization)                                                                                     \n",
            "                                                                                                  \n",
            " dropout_6 (Dropout)            (None, 44, 64, 64)   0           ['batch_normalization_6[0][0]']  \n",
            "                                                                                                  \n",
            " conv2d_13 (Conv2D)             (None, 44, 64, 64)   36928       ['dropout_6[0][0]']              \n",
            "                                                                                                  \n",
            " conv2d_transpose_2 (Conv2DTran  (None, 88, 128, 32)  8224       ['conv2d_13[0][0]']              \n",
            " spose)                                                                                           \n",
            "                                                                                                  \n",
            " concatenate_2 (Concatenate)    (None, 88, 128, 64)  0           ['conv2d_transpose_2[0][0]',     \n",
            "                                                                  'conv2d_3[0][0]']               \n",
            "                                                                                                  \n",
            " conv2d_14 (Conv2D)             (None, 88, 128, 32)  18464       ['concatenate_2[0][0]']          \n",
            "                                                                                                  \n",
            " batch_normalization_7 (BatchNo  (None, 88, 128, 32)  128        ['conv2d_14[0][0]']              \n",
            " rmalization)                                                                                     \n",
            "                                                                                                  \n",
            " dropout_7 (Dropout)            (None, 88, 128, 32)  0           ['batch_normalization_7[0][0]']  \n",
            "                                                                                                  \n",
            " conv2d_15 (Conv2D)             (None, 88, 128, 32)  9248        ['dropout_7[0][0]']              \n",
            "                                                                                                  \n",
            " conv2d_transpose_3 (Conv2DTran  (None, 176, 256, 16  2064       ['conv2d_15[0][0]']              \n",
            " spose)                         )                                                                 \n",
            "                                                                                                  \n",
            " concatenate_3 (Concatenate)    (None, 176, 256, 32  0           ['conv2d_transpose_3[0][0]',     \n",
            "                                )                                 'conv2d_1[0][0]']               \n",
            "                                                                                                  \n",
            " conv2d_16 (Conv2D)             (None, 176, 256, 16  4624        ['concatenate_3[0][0]']          \n",
            "                                )                                                                 \n",
            "                                                                                                  \n",
            " batch_normalization_8 (BatchNo  (None, 176, 256, 16  64         ['conv2d_16[0][0]']              \n",
            " rmalization)                   )                                                                 \n",
            "                                                                                                  \n",
            " dropout_8 (Dropout)            (None, 176, 256, 16  0           ['batch_normalization_8[0][0]']  \n",
            "                                )                                                                 \n",
            "                                                                                                  \n",
            " conv2d_17 (Conv2D)             (None, 176, 256, 16  2320        ['dropout_8[0][0]']              \n",
            "                                )                                                                 \n",
            "                                                                                                  \n",
            " conv2d_18 (Conv2D)             (None, 176, 256, 1)  17          ['conv2d_17[0][0]']              \n",
            "                                                                                                  \n",
            "==================================================================================================\n",
            "Total params: 1,943,761\n",
            "Trainable params: 1,942,289\n",
            "Non-trainable params: 1,472\n",
            "__________________________________________________________________________________________________\n"
          ]
        }
      ]
    },
    {
      "cell_type": "code",
      "source": [
        "# rule of thumb is # of data is 1/10 of trainable parameters"
      ],
      "metadata": {
        "id": "YOLEwo4TUWuZ"
      },
      "execution_count": 32,
      "outputs": []
    },
    {
      "cell_type": "markdown",
      "source": [
        "Convert image arrays to single array with the first dimension being the number of samples"
      ],
      "metadata": {
        "id": "ofAPVhOucQmf"
      }
    },
    {
      "cell_type": "code",
      "source": [
        "X_train2 = np.stack(X_train2, axis=0)\n",
        "X_test2 = np.stack(X_test2, axis=0)\n",
        "\n",
        "y_train2 = np.stack(y_train2, axis=0)\n",
        "y_test2 = np.stack(y_test2, axis=0)"
      ],
      "metadata": {
        "id": "1WFtBNOTX_44"
      },
      "execution_count": 33,
      "outputs": []
    },
    {
      "cell_type": "markdown",
      "source": [
        "Building the model"
      ],
      "metadata": {
        "id": "my2uQgwHyYzk"
      }
    },
    {
      "cell_type": "code",
      "source": [
        "results = model.fit(X_train2, y_train2, validation_split=0.1, batch_size=8, epochs=100) #shuffle=True\n",
        "#results = model.fit(X_train2, y_train2, validation_split=0.1, batch_size=16, epochs=25) # 100 to 150 epochs "
      ],
      "metadata": {
        "id": "NZJNHJrgPL8G",
        "colab": {
          "base_uri": "https://localhost:8080/"
        },
        "outputId": "b14e8d88-2669-46a1-d3d7-8e9de92e45f5"
      },
      "execution_count": 34,
      "outputs": [
        {
          "output_type": "stream",
          "name": "stdout",
          "text": [
            "Epoch 1/100\n",
            "444/444 [==============================] - 30s 24ms/step - loss: -3.9942e-04 - dice_coef: 3.9943e-04 - val_loss: -4.6263e-04 - val_dice_coef: 4.5702e-04\n",
            "Epoch 2/100\n",
            "444/444 [==============================] - 10s 22ms/step - loss: -4.0821e-04 - dice_coef: 4.0823e-04 - val_loss: -4.4144e-04 - val_dice_coef: 4.3613e-04\n",
            "Epoch 3/100\n",
            "444/444 [==============================] - 10s 22ms/step - loss: -4.1061e-04 - dice_coef: 4.1045e-04 - val_loss: -4.3019e-04 - val_dice_coef: 4.2502e-04\n",
            "Epoch 4/100\n",
            "444/444 [==============================] - 10s 22ms/step - loss: -4.1247e-04 - dice_coef: 4.1253e-04 - val_loss: -4.3268e-04 - val_dice_coef: 4.2748e-04\n",
            "Epoch 5/100\n",
            "444/444 [==============================] - 9s 21ms/step - loss: -4.1408e-04 - dice_coef: 4.1418e-04 - val_loss: -4.3461e-04 - val_dice_coef: 4.2938e-04\n",
            "Epoch 6/100\n",
            "444/444 [==============================] - 10s 22ms/step - loss: -4.1421e-04 - dice_coef: 4.1423e-04 - val_loss: -4.2935e-04 - val_dice_coef: 4.2418e-04\n",
            "Epoch 7/100\n",
            "444/444 [==============================] - 10s 22ms/step - loss: -4.1691e-04 - dice_coef: 4.1680e-04 - val_loss: -4.3369e-04 - val_dice_coef: 4.2847e-04\n",
            "Epoch 8/100\n",
            "444/444 [==============================] - 9s 21ms/step - loss: -4.1760e-04 - dice_coef: 4.1761e-04 - val_loss: -4.3263e-04 - val_dice_coef: 4.2742e-04\n",
            "Epoch 9/100\n",
            "444/444 [==============================] - 9s 21ms/step - loss: -4.1824e-04 - dice_coef: 4.1840e-04 - val_loss: -4.3234e-04 - val_dice_coef: 4.2714e-04\n",
            "Epoch 10/100\n",
            "444/444 [==============================] - 10s 21ms/step - loss: -4.1993e-04 - dice_coef: 4.1972e-04 - val_loss: -4.3103e-04 - val_dice_coef: 4.2584e-04\n",
            "Epoch 11/100\n",
            "444/444 [==============================] - 10s 22ms/step - loss: -4.2003e-04 - dice_coef: 4.2022e-04 - val_loss: -4.3059e-04 - val_dice_coef: 4.2541e-04\n",
            "Epoch 12/100\n",
            "444/444 [==============================] - 10s 22ms/step - loss: -4.2250e-04 - dice_coef: 4.2256e-04 - val_loss: -4.3073e-04 - val_dice_coef: 4.2555e-04\n",
            "Epoch 13/100\n",
            "444/444 [==============================] - 10s 23ms/step - loss: -4.2325e-04 - dice_coef: 4.2317e-04 - val_loss: -4.2896e-04 - val_dice_coef: 4.2379e-04\n",
            "Epoch 14/100\n",
            "444/444 [==============================] - 10s 23ms/step - loss: -4.2466e-04 - dice_coef: 4.2460e-04 - val_loss: -4.2930e-04 - val_dice_coef: 4.2413e-04\n",
            "Epoch 15/100\n",
            "444/444 [==============================] - 10s 23ms/step - loss: -4.2487e-04 - dice_coef: 4.2487e-04 - val_loss: -4.2922e-04 - val_dice_coef: 4.2406e-04\n",
            "Epoch 16/100\n",
            "444/444 [==============================] - 10s 22ms/step - loss: -4.2648e-04 - dice_coef: 4.2664e-04 - val_loss: -4.3008e-04 - val_dice_coef: 4.2490e-04\n",
            "Epoch 17/100\n",
            "444/444 [==============================] - 9s 21ms/step - loss: -4.2741e-04 - dice_coef: 4.2750e-04 - val_loss: -4.2960e-04 - val_dice_coef: 4.2443e-04\n",
            "Epoch 18/100\n",
            "444/444 [==============================] - 9s 21ms/step - loss: -4.2795e-04 - dice_coef: 4.2813e-04 - val_loss: -4.3131e-04 - val_dice_coef: 4.2612e-04\n",
            "Epoch 19/100\n",
            "444/444 [==============================] - 9s 21ms/step - loss: -4.2894e-04 - dice_coef: 4.2909e-04 - val_loss: -4.3375e-04 - val_dice_coef: 4.2853e-04\n",
            "Epoch 20/100\n",
            "444/444 [==============================] - 9s 21ms/step - loss: -4.3020e-04 - dice_coef: 4.3072e-04 - val_loss: -4.3351e-04 - val_dice_coef: 4.2829e-04\n",
            "Epoch 21/100\n",
            "444/444 [==============================] - 9s 21ms/step - loss: -4.3056e-04 - dice_coef: 4.3079e-04 - val_loss: -4.3601e-04 - val_dice_coef: 4.3077e-04\n",
            "Epoch 22/100\n",
            "444/444 [==============================] - 9s 21ms/step - loss: -4.3200e-04 - dice_coef: 4.3203e-04 - val_loss: -4.3716e-04 - val_dice_coef: 4.3189e-04\n",
            "Epoch 23/100\n",
            "444/444 [==============================] - 10s 21ms/step - loss: -4.3293e-04 - dice_coef: 4.3316e-04 - val_loss: -4.3696e-04 - val_dice_coef: 4.3169e-04\n",
            "Epoch 24/100\n",
            "444/444 [==============================] - 10s 22ms/step - loss: -4.3406e-04 - dice_coef: 4.3414e-04 - val_loss: -4.3784e-04 - val_dice_coef: 4.3257e-04\n",
            "Epoch 25/100\n",
            "444/444 [==============================] - 9s 21ms/step - loss: -4.3434e-04 - dice_coef: 4.3449e-04 - val_loss: -4.3880e-04 - val_dice_coef: 4.3352e-04\n",
            "Epoch 26/100\n",
            "444/444 [==============================] - 9s 21ms/step - loss: -4.3585e-04 - dice_coef: 4.3575e-04 - val_loss: -4.3950e-04 - val_dice_coef: 4.3420e-04\n",
            "Epoch 27/100\n",
            "444/444 [==============================] - 9s 21ms/step - loss: -4.3641e-04 - dice_coef: 4.3644e-04 - val_loss: -4.4057e-04 - val_dice_coef: 4.3526e-04\n",
            "Epoch 28/100\n",
            "444/444 [==============================] - 9s 21ms/step - loss: -4.3754e-04 - dice_coef: 4.3740e-04 - val_loss: -4.4156e-04 - val_dice_coef: 4.3624e-04\n",
            "Epoch 29/100\n",
            "444/444 [==============================] - 9s 21ms/step - loss: -4.3843e-04 - dice_coef: 4.3822e-04 - val_loss: -4.4254e-04 - val_dice_coef: 4.3721e-04\n",
            "Epoch 30/100\n",
            "444/444 [==============================] - 9s 21ms/step - loss: -4.3922e-04 - dice_coef: 4.3904e-04 - val_loss: -4.4504e-04 - val_dice_coef: 4.3968e-04\n",
            "Epoch 31/100\n",
            "444/444 [==============================] - 9s 21ms/step - loss: -4.4013e-04 - dice_coef: 4.4008e-04 - val_loss: -4.4478e-04 - val_dice_coef: 4.3943e-04\n",
            "Epoch 32/100\n",
            "444/444 [==============================] - 10s 22ms/step - loss: -4.4123e-04 - dice_coef: 4.4107e-04 - val_loss: -4.4602e-04 - val_dice_coef: 4.4065e-04\n",
            "Epoch 33/100\n",
            "444/444 [==============================] - 9s 21ms/step - loss: -4.4178e-04 - dice_coef: 4.4189e-04 - val_loss: -4.4656e-04 - val_dice_coef: 4.4118e-04\n",
            "Epoch 34/100\n",
            "444/444 [==============================] - 9s 21ms/step - loss: -4.4222e-04 - dice_coef: 4.4201e-04 - val_loss: -4.4867e-04 - val_dice_coef: 4.4327e-04\n",
            "Epoch 35/100\n",
            "444/444 [==============================] - 9s 21ms/step - loss: -4.4276e-04 - dice_coef: 4.4295e-04 - val_loss: -4.5017e-04 - val_dice_coef: 4.4474e-04\n",
            "Epoch 36/100\n",
            "444/444 [==============================] - 9s 21ms/step - loss: -4.4411e-04 - dice_coef: 4.4400e-04 - val_loss: -4.5054e-04 - val_dice_coef: 4.4511e-04\n",
            "Epoch 37/100\n",
            "444/444 [==============================] - 9s 21ms/step - loss: -4.4480e-04 - dice_coef: 4.4473e-04 - val_loss: -4.5175e-04 - val_dice_coef: 4.4631e-04\n",
            "Epoch 38/100\n",
            "444/444 [==============================] - 9s 21ms/step - loss: -4.4512e-04 - dice_coef: 4.4502e-04 - val_loss: -4.5199e-04 - val_dice_coef: 4.4654e-04\n",
            "Epoch 39/100\n",
            "444/444 [==============================] - 9s 21ms/step - loss: -4.4645e-04 - dice_coef: 4.4670e-04 - val_loss: -4.5424e-04 - val_dice_coef: 4.4876e-04\n",
            "Epoch 40/100\n",
            "444/444 [==============================] - 9s 21ms/step - loss: -4.4722e-04 - dice_coef: 4.4713e-04 - val_loss: -4.5394e-04 - val_dice_coef: 4.4847e-04\n",
            "Epoch 41/100\n",
            "444/444 [==============================] - 9s 21ms/step - loss: -4.4806e-04 - dice_coef: 4.4804e-04 - val_loss: -4.5555e-04 - val_dice_coef: 4.5006e-04\n",
            "Epoch 42/100\n",
            "444/444 [==============================] - 9s 21ms/step - loss: -4.4917e-04 - dice_coef: 4.4925e-04 - val_loss: -4.5699e-04 - val_dice_coef: 4.5148e-04\n",
            "Epoch 43/100\n",
            "444/444 [==============================] - 9s 21ms/step - loss: -4.4962e-04 - dice_coef: 4.4947e-04 - val_loss: -4.5768e-04 - val_dice_coef: 4.5216e-04\n",
            "Epoch 44/100\n",
            "444/444 [==============================] - 9s 21ms/step - loss: -4.5057e-04 - dice_coef: 4.5059e-04 - val_loss: -4.5878e-04 - val_dice_coef: 4.5325e-04\n",
            "Epoch 45/100\n",
            "444/444 [==============================] - 9s 21ms/step - loss: -4.5131e-04 - dice_coef: 4.5151e-04 - val_loss: -4.6028e-04 - val_dice_coef: 4.5473e-04\n",
            "Epoch 46/100\n",
            "444/444 [==============================] - 9s 21ms/step - loss: -4.5247e-04 - dice_coef: 4.5249e-04 - val_loss: -4.6102e-04 - val_dice_coef: 4.5546e-04\n",
            "Epoch 47/100\n",
            "444/444 [==============================] - 9s 21ms/step - loss: -4.5326e-04 - dice_coef: 4.5338e-04 - val_loss: -4.6334e-04 - val_dice_coef: 4.5775e-04\n",
            "Epoch 48/100\n",
            "444/444 [==============================] - 9s 21ms/step - loss: -4.5365e-04 - dice_coef: 4.5355e-04 - val_loss: -4.6342e-04 - val_dice_coef: 4.5783e-04\n",
            "Epoch 49/100\n",
            "444/444 [==============================] - 9s 21ms/step - loss: -4.5506e-04 - dice_coef: 4.5503e-04 - val_loss: -4.6479e-04 - val_dice_coef: 4.5918e-04\n",
            "Epoch 50/100\n",
            "444/444 [==============================] - 9s 21ms/step - loss: -4.5492e-04 - dice_coef: 4.5478e-04 - val_loss: -4.6515e-04 - val_dice_coef: 4.5954e-04\n",
            "Epoch 51/100\n",
            "444/444 [==============================] - 9s 21ms/step - loss: -4.5645e-04 - dice_coef: 4.5669e-04 - val_loss: -4.6684e-04 - val_dice_coef: 4.6121e-04\n",
            "Epoch 52/100\n",
            "444/444 [==============================] - 9s 21ms/step - loss: -4.5703e-04 - dice_coef: 4.5720e-04 - val_loss: -4.6860e-04 - val_dice_coef: 4.6295e-04\n",
            "Epoch 53/100\n",
            "444/444 [==============================] - 9s 21ms/step - loss: -4.5746e-04 - dice_coef: 4.5769e-04 - val_loss: -4.6854e-04 - val_dice_coef: 4.6289e-04\n",
            "Epoch 54/100\n",
            "444/444 [==============================] - 9s 21ms/step - loss: -4.5917e-04 - dice_coef: 4.5902e-04 - val_loss: -4.6959e-04 - val_dice_coef: 4.6392e-04\n",
            "Epoch 55/100\n",
            "444/444 [==============================] - 9s 21ms/step - loss: -4.5996e-04 - dice_coef: 4.6007e-04 - val_loss: -4.6965e-04 - val_dice_coef: 4.6399e-04\n",
            "Epoch 56/100\n",
            "444/444 [==============================] - 9s 21ms/step - loss: -4.6002e-04 - dice_coef: 4.5989e-04 - val_loss: -4.7046e-04 - val_dice_coef: 4.6479e-04\n",
            "Epoch 57/100\n",
            "444/444 [==============================] - 9s 21ms/step - loss: -4.6147e-04 - dice_coef: 4.6169e-04 - val_loss: -4.7182e-04 - val_dice_coef: 4.6613e-04\n",
            "Epoch 58/100\n",
            "444/444 [==============================] - 9s 21ms/step - loss: -4.6216e-04 - dice_coef: 4.6212e-04 - val_loss: -4.7228e-04 - val_dice_coef: 4.6659e-04\n",
            "Epoch 59/100\n",
            "444/444 [==============================] - 9s 21ms/step - loss: -4.6292e-04 - dice_coef: 4.6278e-04 - val_loss: -4.7245e-04 - val_dice_coef: 4.6675e-04\n",
            "Epoch 60/100\n",
            "444/444 [==============================] - 9s 21ms/step - loss: -4.6357e-04 - dice_coef: 4.6367e-04 - val_loss: -4.7299e-04 - val_dice_coef: 4.6729e-04\n",
            "Epoch 61/100\n",
            "444/444 [==============================] - 9s 21ms/step - loss: -4.6422e-04 - dice_coef: 4.6410e-04 - val_loss: -4.7481e-04 - val_dice_coef: 4.6908e-04\n",
            "Epoch 62/100\n",
            "444/444 [==============================] - 9s 21ms/step - loss: -4.6520e-04 - dice_coef: 4.6528e-04 - val_loss: -4.7529e-04 - val_dice_coef: 4.6956e-04\n",
            "Epoch 63/100\n",
            "444/444 [==============================] - 9s 21ms/step - loss: -4.6621e-04 - dice_coef: 4.6614e-04 - val_loss: -4.7549e-04 - val_dice_coef: 4.6975e-04\n",
            "Epoch 64/100\n",
            "444/444 [==============================] - 9s 21ms/step - loss: -4.6706e-04 - dice_coef: 4.6675e-04 - val_loss: -4.7626e-04 - val_dice_coef: 4.7052e-04\n",
            "Epoch 65/100\n",
            "444/444 [==============================] - 9s 21ms/step - loss: -4.6776e-04 - dice_coef: 4.6774e-04 - val_loss: -4.7653e-04 - val_dice_coef: 4.7078e-04\n",
            "Epoch 66/100\n",
            "444/444 [==============================] - 9s 21ms/step - loss: -4.6800e-04 - dice_coef: 4.6802e-04 - val_loss: -4.7685e-04 - val_dice_coef: 4.7110e-04\n",
            "Epoch 67/100\n",
            "444/444 [==============================] - 9s 21ms/step - loss: -4.6960e-04 - dice_coef: 4.6951e-04 - val_loss: -4.7818e-04 - val_dice_coef: 4.7242e-04\n",
            "Epoch 68/100\n",
            "444/444 [==============================] - 9s 21ms/step - loss: -4.7006e-04 - dice_coef: 4.7003e-04 - val_loss: -4.7879e-04 - val_dice_coef: 4.7302e-04\n",
            "Epoch 69/100\n",
            "444/444 [==============================] - 10s 22ms/step - loss: -4.7113e-04 - dice_coef: 4.7130e-04 - val_loss: -4.7999e-04 - val_dice_coef: 4.7420e-04\n",
            "Epoch 70/100\n",
            "444/444 [==============================] - 10s 22ms/step - loss: -4.7117e-04 - dice_coef: 4.7121e-04 - val_loss: -4.8079e-04 - val_dice_coef: 4.7498e-04\n",
            "Epoch 71/100\n",
            "444/444 [==============================] - 9s 21ms/step - loss: -4.7224e-04 - dice_coef: 4.7224e-04 - val_loss: -4.8005e-04 - val_dice_coef: 4.7426e-04\n",
            "Epoch 72/100\n",
            "444/444 [==============================] - 10s 21ms/step - loss: -4.7264e-04 - dice_coef: 4.7241e-04 - val_loss: -4.8143e-04 - val_dice_coef: 4.7562e-04\n",
            "Epoch 73/100\n",
            "444/444 [==============================] - 9s 21ms/step - loss: -4.7310e-04 - dice_coef: 4.7293e-04 - val_loss: -4.8207e-04 - val_dice_coef: 4.7626e-04\n",
            "Epoch 74/100\n",
            "444/444 [==============================] - 9s 21ms/step - loss: -4.7418e-04 - dice_coef: 4.7407e-04 - val_loss: -4.8385e-04 - val_dice_coef: 4.7801e-04\n",
            "Epoch 75/100\n",
            "444/444 [==============================] - 9s 21ms/step - loss: -4.7512e-04 - dice_coef: 4.7519e-04 - val_loss: -4.8419e-04 - val_dice_coef: 4.7835e-04\n",
            "Epoch 76/100\n",
            "444/444 [==============================] - 9s 21ms/step - loss: -4.7594e-04 - dice_coef: 4.7590e-04 - val_loss: -4.8619e-04 - val_dice_coef: 4.8032e-04\n",
            "Epoch 77/100\n",
            "444/444 [==============================] - 9s 21ms/step - loss: -4.7642e-04 - dice_coef: 4.7634e-04 - val_loss: -4.8492e-04 - val_dice_coef: 4.7907e-04\n",
            "Epoch 78/100\n",
            "444/444 [==============================] - 9s 21ms/step - loss: -4.7762e-04 - dice_coef: 4.7777e-04 - val_loss: -4.8471e-04 - val_dice_coef: 4.7885e-04\n",
            "Epoch 79/100\n",
            "444/444 [==============================] - 9s 21ms/step - loss: -4.7815e-04 - dice_coef: 4.7835e-04 - val_loss: -4.8598e-04 - val_dice_coef: 4.8011e-04\n",
            "Epoch 80/100\n",
            "444/444 [==============================] - 9s 21ms/step - loss: -4.7846e-04 - dice_coef: 4.7835e-04 - val_loss: -4.8728e-04 - val_dice_coef: 4.8139e-04\n",
            "Epoch 81/100\n",
            "444/444 [==============================] - 9s 21ms/step - loss: -4.7991e-04 - dice_coef: 4.7972e-04 - val_loss: -4.8772e-04 - val_dice_coef: 4.8183e-04\n",
            "Epoch 82/100\n",
            "444/444 [==============================] - 10s 21ms/step - loss: -4.8077e-04 - dice_coef: 4.8059e-04 - val_loss: -4.8881e-04 - val_dice_coef: 4.8291e-04\n",
            "Epoch 83/100\n",
            "444/444 [==============================] - 9s 21ms/step - loss: -4.8127e-04 - dice_coef: 4.8131e-04 - val_loss: -4.8852e-04 - val_dice_coef: 4.8262e-04\n",
            "Epoch 84/100\n",
            "444/444 [==============================] - 9s 21ms/step - loss: -4.8190e-04 - dice_coef: 4.8198e-04 - val_loss: -4.8901e-04 - val_dice_coef: 4.8311e-04\n",
            "Epoch 85/100\n",
            "444/444 [==============================] - 9s 21ms/step - loss: -4.8202e-04 - dice_coef: 4.8198e-04 - val_loss: -4.9057e-04 - val_dice_coef: 4.8464e-04\n",
            "Epoch 86/100\n",
            "444/444 [==============================] - 9s 21ms/step - loss: -4.8329e-04 - dice_coef: 4.8348e-04 - val_loss: -4.9047e-04 - val_dice_coef: 4.8455e-04\n",
            "Epoch 87/100\n",
            "444/444 [==============================] - 9s 21ms/step - loss: -4.8402e-04 - dice_coef: 4.8384e-04 - val_loss: -4.9164e-04 - val_dice_coef: 4.8571e-04\n",
            "Epoch 88/100\n",
            "444/444 [==============================] - 9s 21ms/step - loss: -4.8503e-04 - dice_coef: 4.8492e-04 - val_loss: -4.9201e-04 - val_dice_coef: 4.8607e-04\n",
            "Epoch 89/100\n",
            "444/444 [==============================] - 9s 21ms/step - loss: -4.8534e-04 - dice_coef: 4.8526e-04 - val_loss: -4.9279e-04 - val_dice_coef: 4.8684e-04\n",
            "Epoch 90/100\n",
            "444/444 [==============================] - 9s 21ms/step - loss: -4.8685e-04 - dice_coef: 4.8692e-04 - val_loss: -4.9423e-04 - val_dice_coef: 4.8826e-04\n",
            "Epoch 91/100\n",
            "444/444 [==============================] - 9s 21ms/step - loss: -4.8651e-04 - dice_coef: 4.8628e-04 - val_loss: -4.9450e-04 - val_dice_coef: 4.8853e-04\n",
            "Epoch 92/100\n",
            "444/444 [==============================] - 10s 22ms/step - loss: -4.8788e-04 - dice_coef: 4.8798e-04 - val_loss: -4.9512e-04 - val_dice_coef: 4.8914e-04\n",
            "Epoch 93/100\n",
            "444/444 [==============================] - 9s 21ms/step - loss: -4.8832e-04 - dice_coef: 4.8825e-04 - val_loss: -4.9664e-04 - val_dice_coef: 4.9064e-04\n",
            "Epoch 94/100\n",
            "444/444 [==============================] - 10s 21ms/step - loss: -4.8938e-04 - dice_coef: 4.8933e-04 - val_loss: -4.9504e-04 - val_dice_coef: 4.8906e-04\n",
            "Epoch 95/100\n",
            "444/444 [==============================] - 9s 21ms/step - loss: -4.8974e-04 - dice_coef: 4.8963e-04 - val_loss: -4.9664e-04 - val_dice_coef: 4.9064e-04\n",
            "Epoch 96/100\n",
            "444/444 [==============================] - 9s 21ms/step - loss: -4.9037e-04 - dice_coef: 4.9036e-04 - val_loss: -4.9793e-04 - val_dice_coef: 4.9192e-04\n",
            "Epoch 97/100\n",
            "444/444 [==============================] - 9s 21ms/step - loss: -4.9109e-04 - dice_coef: 4.9110e-04 - val_loss: -4.9768e-04 - val_dice_coef: 4.9166e-04\n",
            "Epoch 98/100\n",
            "444/444 [==============================] - 9s 21ms/step - loss: -4.9197e-04 - dice_coef: 4.9209e-04 - val_loss: -4.9856e-04 - val_dice_coef: 4.9254e-04\n",
            "Epoch 99/100\n",
            "444/444 [==============================] - 9s 21ms/step - loss: -4.9243e-04 - dice_coef: 4.9266e-04 - val_loss: -4.9963e-04 - val_dice_coef: 4.9359e-04\n",
            "Epoch 100/100\n",
            "444/444 [==============================] - 9s 21ms/step - loss: -4.9376e-04 - dice_coef: 4.9394e-04 - val_loss: -4.9924e-04 - val_dice_coef: 4.9321e-04\n"
          ]
        }
      ]
    },
    {
      "cell_type": "code",
      "source": [],
      "metadata": {
        "id": "ZZv6wWrSph0I"
      },
      "execution_count": null,
      "outputs": []
    },
    {
      "cell_type": "markdown",
      "source": [
        "Graph Loss"
      ],
      "metadata": {
        "id": "tW0duw-NMmD2"
      }
    },
    {
      "cell_type": "code",
      "source": [
        "plt.plot(results.history['loss'], label='loss')\n",
        "plt.plot(results.history['val_loss'], label = 'val_loss')\n",
        "plt.xlabel('Epoch')\n",
        "plt.ylabel('Dice Coef Loss')\n",
        "# plt.ylim([0.5, 1])\n",
        "plt.legend(loc='lower right')"
      ],
      "metadata": {
        "colab": {
          "base_uri": "https://localhost:8080/",
          "height": 297
        },
        "id": "q6sn_L58MoM6",
        "outputId": "ce6bff70-8796-498f-d3d6-312a67757d30"
      },
      "execution_count": 36,
      "outputs": [
        {
          "output_type": "execute_result",
          "data": {
            "text/plain": [
              "<matplotlib.legend.Legend at 0x7fac8024fe50>"
            ]
          },
          "metadata": {},
          "execution_count": 36
        },
        {
          "output_type": "display_data",
          "data": {
            "text/plain": [
              "<Figure size 432x288 with 1 Axes>"
            ],
            "image/png": "[encoded data removed]"
          },
          "metadata": {
            "needs_background": "light"
          }
        }
      ]
    },
    {
      "cell_type": "markdown",
      "source": [
        "Test the Model"
      ],
      "metadata": {
        "id": "SJ9Vx6B0vczk"
      }
    },
    {
      "cell_type": "code",
      "source": [
        " # score of model.predict(X_test2) -> y_test2"
      ],
      "metadata": {
        "id": "VHarmqjHpiFx"
      },
      "execution_count": 37,
      "outputs": []
    },
    {
      "cell_type": "code",
      "source": [
        "test_loss, test_dice_coef = model.evaluate(X_test2,  y_test2, verbose=2)"
      ],
      "metadata": {
        "id": "QwXMhNg4phxg",
        "colab": {
          "base_uri": "https://localhost:8080/"
        },
        "outputId": "c3add7bd-35fa-446d-bec7-dcca57b9177d"
      },
      "execution_count": 38,
      "outputs": [
        {
          "output_type": "stream",
          "name": "stdout",
          "text": [
            "33/33 - 1s - loss: -5.2392e-04 - dice_coef: 5.2392e-04 - 806ms/epoch - 24ms/step\n"
          ]
        }
      ]
    },
    {
      "cell_type": "code",
      "source": [
        "print(test_dice_coef)"
      ],
      "metadata": {
        "colab": {
          "base_uri": "https://localhost:8080/"
        },
        "id": "ax8sZMVrNcoN",
        "outputId": "6f373375-f710-498b-c0ee-f33d89f2984a"
      },
      "execution_count": 39,
      "outputs": [
        {
          "output_type": "stream",
          "name": "stdout",
          "text": [
            "0.0005239187739789486\n"
          ]
        }
      ]
    },
    {
      "cell_type": "markdown",
      "source": [
        "EXTRAS"
      ],
      "metadata": {
        "id": "PjXh0DVspiej"
      }
    },
    {
      "cell_type": "code",
      "source": [
        "# model=unet((IMG_HEIGHT, IMG_WIDTH, IMG_CHANNELS))\n",
        "# model.compile(optimizer='adam', loss='binary_crossentropy', metrics=['accuracy'])\n",
        "# model.summary()"
      ],
      "metadata": {
        "colab": {
          "base_uri": "https://localhost:8080/"
        },
        "id": "BEM2xttXZ8sx",
        "outputId": "df7b20bd-73fd-49ca-9a3e-1ec44957c115"
      },
      "execution_count": null,
      "outputs": [
        {
          "output_type": "stream",
          "name": "stdout",
          "text": [
            "Model: \"UNET\"\n",
            "__________________________________________________________________________________________________\n",
            " Layer (type)                   Output Shape         Param #     Connected to                     \n",
            "==================================================================================================\n",
            " input_5 (InputLayer)           [(None, 176, 256, 1  0           []                               \n",
            "                                )]                                                                \n",
            "                                                                                                  \n",
            " conv2d_59 (Conv2D)             (None, 176, 256, 16  160         ['input_5[0][0]']                \n",
            "                                )                                                                 \n",
            "                                                                                                  \n",
            " dropout_28 (Dropout)           (None, 176, 256, 16  0           ['conv2d_59[0][0]']              \n",
            "                                )                                                                 \n",
            "                                                                                                  \n",
            " max_pooling2d_12 (MaxPooling2D  (None, 88, 128, 16)  0          ['dropout_28[0][0]']             \n",
            " )                                                                                                \n",
            "                                                                                                  \n",
            " conv2d_61 (Conv2D)             (None, 88, 128, 32)  4640        ['max_pooling2d_12[0][0]']       \n",
            "                                                                                                  \n",
            " dropout_30 (Dropout)           (None, 88, 128, 32)  0           ['conv2d_61[0][0]']              \n",
            "                                                                                                  \n",
            " max_pooling2d_13 (MaxPooling2D  (None, 44, 64, 32)  0           ['dropout_30[0][0]']             \n",
            " )                                                                                                \n",
            "                                                                                                  \n",
            " conv2d_63 (Conv2D)             (None, 44, 64, 64)   18496       ['max_pooling2d_13[0][0]']       \n",
            "                                                                                                  \n",
            " dropout_32 (Dropout)           (None, 44, 64, 64)   0           ['conv2d_63[0][0]']              \n",
            "                                                                                                  \n",
            " max_pooling2d_14 (MaxPooling2D  (None, 22, 32, 64)  0           ['dropout_32[0][0]']             \n",
            " )                                                                                                \n",
            "                                                                                                  \n",
            " conv2d_65 (Conv2D)             (None, 22, 32, 128)  73856       ['max_pooling2d_14[0][0]']       \n",
            "                                                                                                  \n",
            " dropout_34 (Dropout)           (None, 22, 32, 128)  0           ['conv2d_65[0][0]']              \n",
            "                                                                                                  \n",
            " max_pooling2d_15 (MaxPooling2D  (None, 11, 16, 128)  0          ['dropout_34[0][0]']             \n",
            " )                                                                                                \n",
            "                                                                                                  \n",
            " conv2d_67 (Conv2D)             (None, 11, 16, 256)  295168      ['max_pooling2d_15[0][0]']       \n",
            "                                                                                                  \n",
            " dropout_36 (Dropout)           (None, 11, 16, 256)  0           ['conv2d_67[0][0]']              \n",
            "                                                                                                  \n",
            " conv2d_transpose_12 (Conv2DTra  (None, 22, 32, 128)  131200     ['dropout_36[0][0]']             \n",
            " nspose)                                                                                          \n",
            "                                                                                                  \n",
            " concatenate_12 (Concatenate)   (None, 22, 32, 256)  0           ['conv2d_transpose_12[0][0]',    \n",
            "                                                                  'dropout_34[0][0]']             \n",
            "                                                                                                  \n",
            " conv2d_69 (Conv2D)             (None, 22, 32, 128)  295040      ['concatenate_12[0][0]']         \n",
            "                                                                                                  \n",
            " dropout_38 (Dropout)           (None, 22, 32, 128)  0           ['conv2d_69[0][0]']              \n",
            "                                                                                                  \n",
            " conv2d_transpose_13 (Conv2DTra  (None, 44, 64, 64)  32832       ['dropout_38[0][0]']             \n",
            " nspose)                                                                                          \n",
            "                                                                                                  \n",
            " concatenate_13 (Concatenate)   (None, 44, 64, 128)  0           ['conv2d_transpose_13[0][0]',    \n",
            "                                                                  'dropout_32[0][0]']             \n",
            "                                                                                                  \n",
            " conv2d_71 (Conv2D)             (None, 44, 64, 64)   73792       ['concatenate_13[0][0]']         \n",
            "                                                                                                  \n",
            " dropout_40 (Dropout)           (None, 44, 64, 64)   0           ['conv2d_71[0][0]']              \n",
            "                                                                                                  \n",
            " conv2d_transpose_14 (Conv2DTra  (None, 88, 128, 32)  8224       ['dropout_40[0][0]']             \n",
            " nspose)                                                                                          \n",
            "                                                                                                  \n",
            " concatenate_14 (Concatenate)   (None, 88, 128, 64)  0           ['conv2d_transpose_14[0][0]',    \n",
            "                                                                  'dropout_30[0][0]']             \n",
            "                                                                                                  \n",
            " conv2d_73 (Conv2D)             (None, 88, 128, 32)  18464       ['concatenate_14[0][0]']         \n",
            "                                                                                                  \n",
            " dropout_42 (Dropout)           (None, 88, 128, 32)  0           ['conv2d_73[0][0]']              \n",
            "                                                                                                  \n",
            " conv2d_transpose_15 (Conv2DTra  (None, 176, 256, 16  2064       ['dropout_42[0][0]']             \n",
            " nspose)                        )                                                                 \n",
            "                                                                                                  \n",
            " concatenate_15 (Concatenate)   (None, 176, 256, 32  0           ['conv2d_transpose_15[0][0]',    \n",
            "                                )                                 'dropout_28[0][0]']             \n",
            "                                                                                                  \n",
            " conv2d_75 (Conv2D)             (None, 176, 256, 16  4624        ['concatenate_15[0][0]']         \n",
            "                                )                                                                 \n",
            "                                                                                                  \n",
            " dropout_44 (Dropout)           (None, 176, 256, 16  0           ['conv2d_75[0][0]']              \n",
            "                                )                                                                 \n",
            "                                                                                                  \n",
            " conv2d_76 (Conv2D)             (None, 176, 256, 1)  17          ['dropout_44[0][0]']             \n",
            "                                                                                                  \n",
            "==================================================================================================\n",
            "Total params: 958,577\n",
            "Trainable params: 958,577\n",
            "Non-trainable params: 0\n",
            "__________________________________________________________________________________________________\n"
          ]
        }
      ]
    },
    {
      "cell_type": "code",
      "source": [
        "X_train, y_train, X_test, y_test = train_test_split(model_images, model_masks, test_size=0.33, random_state=42)"
      ],
      "metadata": {
        "id": "c99tzwW2XJHF"
      },
      "execution_count": null,
      "outputs": []
    },
    {
      "cell_type": "markdown",
      "source": [
        "All masks in one dimensional list"
      ],
      "metadata": {
        "id": "BA7ftbFpXVPb"
      }
    },
    {
      "cell_type": "code",
      "source": [
        "all_masks=[]\n",
        "for i in range(len(masks)):\n",
        "  for j in range((masks[i].shape)[2]):\n",
        "    all_masks.append(masks[i][:,:,j])\n",
        "print(len(all_masks))"
      ],
      "metadata": {
        "colab": {
          "base_uri": "https://localhost:8080/"
        },
        "id": "HhbWqEAzXUj1",
        "outputId": "adf04ff1-5d6c-440a-bc66-31f66fae53f9"
      },
      "execution_count": null,
      "outputs": [
        {
          "output_type": "stream",
          "name": "stdout",
          "text": [
            "5000\n"
          ]
        }
      ]
    },
    {
      "cell_type": "markdown",
      "source": [
        "All dicom images in one dimensional list"
      ],
      "metadata": {
        "id": "0j3MMlboXOM0"
      }
    },
    {
      "cell_type": "code",
      "source": [
        "all_images=[]\n",
        "\n",
        "for i in range(len(final_images)):\n",
        "  for j in range(len(final_images[i])):\n",
        "    all_images.append(final_images[i][j])\n",
        "print(len(all_images))"
      ],
      "metadata": {
        "colab": {
          "base_uri": "https://localhost:8080/"
        },
        "id": "PEFcHZBEZq5R",
        "outputId": "f7f6fac2-78af-4074-b1f5-02ac02283941"
      },
      "execution_count": null,
      "outputs": [
        {
          "output_type": "stream",
          "name": "stdout",
          "text": [
            "5000\n"
          ]
        }
      ]
    },
    {
      "cell_type": "markdown",
      "source": [
        "Resize all images (do we want to do this?)"
      ],
      "metadata": {
        "id": "KGE8vb8Epn1g"
      }
    },
    {
      "cell_type": "code",
      "source": [
        "model_masks=[]\n",
        "for i in all_masks:\n",
        "  model_masks.append(resize(i, (128, 128)))\n",
        "\n",
        "model_images=[]\n",
        "for i in all_images:\n",
        "  model_images.append(resize(i, (128, 128)))"
      ],
      "metadata": {
        "id": "LjY5HKSqpmnh"
      },
      "execution_count": null,
      "outputs": []
    }
  ]
}