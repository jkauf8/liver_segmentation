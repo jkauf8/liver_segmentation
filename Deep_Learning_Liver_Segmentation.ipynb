{
  "nbformat": 4,
  "nbformat_minor": 0,
  "metadata": {
    "colab": {
      "provenance": [],
      "authorship_tag": "ABX9TyPnmMICFmqA9QbilpW6VD5x",
      "include_colab_link": true
    },
    "kernelspec": {
      "name": "python3",
      "display_name": "Python 3"
    },
    "language_info": {
      "name": "python"
    },
    "accelerator": "GPU",
    "gpuClass": "standard"
  },
  "cells": [
    {
      "cell_type": "markdown",
      "metadata": {
        "id": "view-in-github",
        "colab_type": "text"
      },
      "source": [
        "<a href=\"https://colab.research.google.com/github/jkauf8/liver_segmentation/blob/main/Deep_Learning_Liver_Segmentation.ipynb\" target=\"_parent\"><img src=\"https://colab.research.google.com/assets/colab-badge.svg\" alt=\"Open In Colab\"/></a>"
      ]
    },
    {
      "cell_type": "markdown",
      "source": [
        "The Purpose of this Code is to Utilize a U-Net Deep Learning Model to Automatically Segment Livers"
      ],
      "metadata": {
        "id": "Tp4ugh9xqAnX"
      }
    },
    {
      "cell_type": "markdown",
      "source": [
        "Slides for the data, the annotations, the prepocessing, the network structure, loss function, training results, and testing results "
      ],
      "metadata": {
        "id": "ePjcNtfekiCf"
      }
    },
    {
      "cell_type": "code",
      "source": [],
      "metadata": {
        "id": "aOcEKHQ0kgyM"
      },
      "execution_count": null,
      "outputs": []
    },
    {
      "cell_type": "code",
      "source": [],
      "metadata": {
        "id": "YYs5-CSHkgk1"
      },
      "execution_count": null,
      "outputs": []
    },
    {
      "cell_type": "code",
      "source": [
        "import sys\n",
        "!{sys.executable} -m pip install pydicom"
      ],
      "metadata": {
        "colab": {
          "base_uri": "https://localhost:8080/"
        },
        "id": "IoY2dEim8rE7",
        "outputId": "0795aaca-4168-48d4-a18f-3d0b4b530e6b"
      },
      "execution_count": 1,
      "outputs": [
        {
          "output_type": "stream",
          "name": "stdout",
          "text": [
            "Looking in indexes: https://pypi.org/simple, https://us-python.pkg.dev/colab-wheels/public/simple/\n",
            "Collecting pydicom\n",
            "  Downloading pydicom-2.3.1-py3-none-any.whl (2.0 MB)\n",
            "\u001b[2K     \u001b[90m━━━━━━━━━━━━━━━━━━━━━━━━━━━━━━━━━━━━━━━━\u001b[0m \u001b[32m2.0/2.0 MB\u001b[0m \u001b[31m24.4 MB/s\u001b[0m eta \u001b[36m0:00:00\u001b[0m\n",
            "\u001b[?25hInstalling collected packages: pydicom\n",
            "Successfully installed pydicom-2.3.1\n"
          ]
        }
      ]
    },
    {
      "cell_type": "code",
      "execution_count": 2,
      "metadata": {
        "id": "keriWC8l7AXZ"
      },
      "outputs": [],
      "source": [
        "from PIL import Image\n",
        "from matplotlib import pyplot as plt\n",
        "import numpy as np\n",
        "import os\n",
        "import cv2\n",
        "from keras.utils import normalize\n",
        "from sklearn.preprocessing import MinMaxScaler\n",
        "from keras.optimizers import Adam\n",
        "from sklearn.model_selection import train_test_split\n",
        "import nibabel as nib\n",
        "import re\n",
        "import pydicom as dicom\n",
        "from keras.layers import Input, Conv2D, MaxPooling2D, UpSampling2D, Concatenate, Conv2DTranspose, BatchNormalization, Activation, MaxPool2D, Dropout\n",
        "from keras.optimizers import Adam\n",
        "from keras.models import Model\n",
        "from skimage.transform import resize\n",
        "import tensorflow as tf\n",
        "from tensorflow import keras"
      ]
    },
    {
      "cell_type": "code",
      "source": [
        "from google.colab import drive\n",
        "drive.mount('/content/drive')"
      ],
      "metadata": {
        "colab": {
          "base_uri": "https://localhost:8080/"
        },
        "id": "-EKbPViA-DoV",
        "outputId": "1acd4734-082e-4037-e76e-86df5e496120"
      },
      "execution_count": 3,
      "outputs": [
        {
          "output_type": "stream",
          "name": "stdout",
          "text": [
            "Mounted at /content/drive\n"
          ]
        }
      ]
    },
    {
      "cell_type": "markdown",
      "source": [
        "Read in liver masks"
      ],
      "metadata": {
        "id": "W3DM4lpXL23G"
      }
    },
    {
      "cell_type": "code",
      "source": [
        "directory = '/content/drive/My Drive/Radiology Research/masks'\n",
        "masks=[]\n",
        "for filename in sorted(os.listdir(directory)):\n",
        "  for files in sorted((os.listdir(os.path.join(directory, filename)))):\n",
        "    file=os.path.join(directory, filename, files)\n",
        "    image=nib.load(file).get_fdata()\n",
        "    scaled_image = np.rot90(np.fliplr(np.uint8(image)))\n",
        "    masks.append(scaled_image)"
      ],
      "metadata": {
        "id": "yjeq1XYeNLQ6"
      },
      "execution_count": 4,
      "outputs": []
    },
    {
      "cell_type": "code",
      "source": [
        "print(len(masks))\n",
        "print(masks[1].shape)\n",
        "print(len(masks[1]))"
      ],
      "metadata": {
        "colab": {
          "base_uri": "https://localhost:8080/"
        },
        "id": "BhMZIPI4C-h3",
        "outputId": "7a0b6bc6-b828-4708-ba76-77b004b860a9"
      },
      "execution_count": 5,
      "outputs": [
        {
          "output_type": "stream",
          "name": "stdout",
          "text": [
            "42\n",
            "(176, 256, 120)\n",
            "176\n"
          ]
        }
      ]
    },
    {
      "cell_type": "code",
      "source": [
        "temp=masks"
      ],
      "metadata": {
        "id": "iJsQ6lz9wLOV"
      },
      "execution_count": 6,
      "outputs": []
    },
    {
      "cell_type": "code",
      "source": [
        "new=[]\n",
        "for i in range(len(temp)):\n",
        "  for j in range(temp[i].shape[2]):\n",
        "    new.append(temp[i][:,:,j])"
      ],
      "metadata": {
        "id": "QK6bJM83wNp4"
      },
      "execution_count": 7,
      "outputs": []
    },
    {
      "cell_type": "code",
      "source": [],
      "metadata": {
        "id": "XDZ8IeLewNZG"
      },
      "execution_count": 7,
      "outputs": []
    },
    {
      "cell_type": "markdown",
      "source": [
        "Read in dicom images"
      ],
      "metadata": {
        "id": "-eXsqjdQMDbq"
      }
    },
    {
      "cell_type": "code",
      "source": [
        "images=[]\n",
        "final_images=[]\n",
        "directory2 = '/content/drive/My Drive/Radiology Research/images'\n",
        "for filename in sorted(os.listdir(directory2)):\n",
        "  for files in sorted(int(i) for i in (os.listdir(os.path.join(directory2, filename)))):\n",
        "    for image in sorted(os.listdir(os.path.join(directory2,filename,str(files))),reverse=True):\n",
        "      if image.endswith('.dcm'):\n",
        "          ds = dicom.dcmread(os.path.join(directory2, filename, str(files), image))\n",
        "          image=ds.pixel_array.astype(float)\n",
        "          scaled_image = (np.maximum(image, 0) / image.max()) * 255.0\n",
        "          scaled_image = np.uint8(scaled_image)\n",
        "          #final_image = Image.fromarray(scaled_image)\n",
        "          images.append(scaled_image)\n",
        "    final_images.append(images)\n",
        "    images=[]"
      ],
      "metadata": {
        "id": "UE1cZ364BsBv"
      },
      "execution_count": 8,
      "outputs": []
    },
    {
      "cell_type": "code",
      "source": [
        "len(final_images)"
      ],
      "metadata": {
        "colab": {
          "base_uri": "https://localhost:8080/"
        },
        "id": "C_ksm3nF_Huu",
        "outputId": "f2b35776-afda-4df7-ba07-ddb91c140667"
      },
      "execution_count": 9,
      "outputs": [
        {
          "output_type": "execute_result",
          "data": {
            "text/plain": [
              "42"
            ]
          },
          "metadata": {},
          "execution_count": 9
        }
      ]
    },
    {
      "cell_type": "code",
      "source": [
        "final_images[1][1].shape"
      ],
      "metadata": {
        "colab": {
          "base_uri": "https://localhost:8080/"
        },
        "id": "1BHsbZotvzNV",
        "outputId": "3fbc1848-144d-4d08-cc1d-8792135b2545"
      },
      "execution_count": 10,
      "outputs": [
        {
          "output_type": "execute_result",
          "data": {
            "text/plain": [
              "(176, 256)"
            ]
          },
          "metadata": {},
          "execution_count": 10
        }
      ]
    },
    {
      "cell_type": "code",
      "source": [
        "len(final_images[0])"
      ],
      "metadata": {
        "colab": {
          "base_uri": "https://localhost:8080/"
        },
        "id": "AXqvejAtcPXn",
        "outputId": "3d125fd9-96fb-42ec-edaf-aa43008db706"
      },
      "execution_count": 11,
      "outputs": [
        {
          "output_type": "execute_result",
          "data": {
            "text/plain": [
              "120"
            ]
          },
          "metadata": {},
          "execution_count": 11
        }
      ]
    },
    {
      "cell_type": "markdown",
      "source": [
        "Normalize image values"
      ],
      "metadata": {
        "id": "G6IoVyC6mxY7"
      }
    },
    {
      "cell_type": "code",
      "source": [
        "for i in range(len(final_images)):\n",
        "  for j in range(len(final_images[i])):\n",
        "    final_images[i][j]=cv2.normalize(final_images[i][j], None, alpha=0, beta=1, norm_type=cv2.NORM_MINMAX, dtype=cv2.CV_32F)"
      ],
      "metadata": {
        "id": "N9nTAu-mmwp5"
      },
      "execution_count": 12,
      "outputs": []
    },
    {
      "cell_type": "markdown",
      "source": [
        "Example Image"
      ],
      "metadata": {
        "id": "CqzaudEYndqn"
      }
    },
    {
      "cell_type": "code",
      "source": [
        "test = final_images[0][100] #second index is slice number \n",
        "plt.imshow(test, cmap=\"gray\")\n",
        "plt.show()"
      ],
      "metadata": {
        "colab": {
          "base_uri": "https://localhost:8080/",
          "height": 269
        },
        "id": "rjTSkKDF9EBP",
        "outputId": "dab7ea76-eca5-4a4f-e7a9-0cc4da32dc80"
      },
      "execution_count": 13,
      "outputs": [
        {
          "output_type": "display_data",
          "data": {
            "text/plain": [
              "<Figure size 432x288 with 1 Axes>"
            ],
            "image/png": "[encoded data removed]"
          },
          "metadata": {
            "needs_background": "light"
          }
        }
      ]
    },
    {
      "cell_type": "markdown",
      "source": [
        "Example Mask"
      ],
      "metadata": {
        "id": "b9awbtA6niFH"
      }
    },
    {
      "cell_type": "code",
      "source": [
        "test = masks[0][:,:,100]\n",
        "plt.imshow(test, cmap=\"gray\")\n",
        "plt.show()"
      ],
      "metadata": {
        "colab": {
          "base_uri": "https://localhost:8080/",
          "height": 269
        },
        "id": "joXkgIes-EAe",
        "outputId": "307ce036-1842-4c75-e58f-c7e073b1847f"
      },
      "execution_count": 14,
      "outputs": [
        {
          "output_type": "display_data",
          "data": {
            "text/plain": [
              "<Figure size 432x288 with 1 Axes>"
            ],
            "image/png": "[encoded data removed]"
          },
          "metadata": {
            "needs_background": "light"
          }
        }
      ]
    },
    {
      "cell_type": "code",
      "source": [
        "def conv_block(input, num_filters):\n",
        "  #add BatchNormalization and Activation layers \n",
        "  x=Conv2D(num_filters, 3, padding='same')(input)\n",
        "  x=BatchNormalization(x)\n",
        "  x=Dropout(0.2)(x)\n",
        "  x=Activation('relu')\n",
        "  x=Conv2D(num_filters, 3, padding='same')(input)\n",
        "  x=Dropout(0.2)(x)\n",
        "  x=BatchNormalization(x)\n",
        "  x=Activation('relu')\n",
        "\n",
        "  return x\n"
      ],
      "metadata": {
        "id": "7e6--Kw8MIzZ"
      },
      "execution_count": 15,
      "outputs": []
    },
    {
      "cell_type": "code",
      "source": [
        "def encoder_block(input, num_filters):\n",
        "  x=conv_block(input, num_filters)\n",
        "  p=MaxPool2D((2,2))(x)\n",
        "  return x,p"
      ],
      "metadata": {
        "id": "cFbHAowUOUs7"
      },
      "execution_count": 16,
      "outputs": []
    },
    {
      "cell_type": "code",
      "source": [
        "def decoder_block(input, skip_features, num_filters):\n",
        "  x=Conv2DTranspose(num_filters, (2,2), strides=2, padding='same')(input)\n",
        "  x=Concatenate()([x, skip_features])\n",
        "  x=conv_block(x,num_filters)\n",
        "  return x"
      ],
      "metadata": {
        "id": "u7TrghQPOzg4"
      },
      "execution_count": 17,
      "outputs": []
    },
    {
      "cell_type": "code",
      "source": [
        "def unet(input_shape):\n",
        "  #start with 16 filters\n",
        "  inputs=Input(input_shape)\n",
        "  s1, p1 = encoder_block(inputs, 16)\n",
        "  s2, p2 = encoder_block(p1, 32)\n",
        "  s3, p3 = encoder_block(p2, 64)\n",
        "  s4, p4 = encoder_block(p3, 128)\n",
        "\n",
        "  b1 = conv_block(p4, 256) \n",
        "\n",
        "  d1 = decoder_block(b1, s4, 128)\n",
        "  d2 = decoder_block(d1, s3, 64)\n",
        "  d3 = decoder_block(d2, s2, 32)\n",
        "  d4 = decoder_block(d3, s1, 16)\n",
        "\n",
        "  outputs = Conv2D(1,1, padding='same', activation='sigmoid')(d4)\n",
        "\n",
        "  model=Model(inputs, outputs, name='UNET')\n",
        "  return model"
      ],
      "metadata": {
        "id": "qoBZpBBXO59I"
      },
      "execution_count": 18,
      "outputs": []
    },
    {
      "cell_type": "markdown",
      "source": [
        "Define image dimensions"
      ],
      "metadata": {
        "id": "9R8U9Ip8xxF7"
      }
    },
    {
      "cell_type": "code",
      "source": [
        "IMG_WIDTH=256 #176 original (should we do 128x128)\n",
        "IMG_HEIGHT=176 #256 original\n",
        "IMG_CHANNELS = 1"
      ],
      "metadata": {
        "id": "3ZQSMwXGxy-p"
      },
      "execution_count": 19,
      "outputs": []
    },
    {
      "cell_type": "code",
      "source": [
        "# add callbacks, model checkpoint\n",
        "# crop first then downsample "
      ],
      "metadata": {
        "id": "6XA75N137xMM"
      },
      "execution_count": 20,
      "outputs": []
    },
    {
      "cell_type": "code",
      "source": [
        "X_train, X_test, y_train, y_test = train_test_split(final_images, masks, test_size=0.20, random_state=42) # check for class imbalance \n",
        "# potenitally remove masks that are blank "
      ],
      "metadata": {
        "id": "uh7SBCzvsyFy"
      },
      "execution_count": 21,
      "outputs": []
    },
    {
      "cell_type": "code",
      "source": [
        "'''\n",
        "function to unravel the images contained in multidimensional list and place them in one-dimensional list \n",
        "'''\n",
        "\n",
        "def unravel_image_list(lister):\n",
        "  new=[]\n",
        "  for i in range(len(lister)):\n",
        "    for j in range(len(lister[i])):\n",
        "      new.append(lister[i][j])\n",
        "\n",
        "  return new "
      ],
      "metadata": {
        "id": "aGDHmj-AVPW-"
      },
      "execution_count": 22,
      "outputs": []
    },
    {
      "cell_type": "code",
      "source": [
        "def unravel_mask_list(lister):\n",
        "  new=[]\n",
        "  for i in range(len(lister)):\n",
        "    for j in range(lister[i].shape[2]):\n",
        "      new.append(lister[i][:,:,j])\n",
        "\n",
        "  return new "
      ],
      "metadata": {
        "id": "CK6RGEoJShPa"
      },
      "execution_count": 23,
      "outputs": []
    },
    {
      "cell_type": "code",
      "source": [
        "X_train=unravel_image_list(X_train)\n",
        "X_test=unravel_image_list(X_test)\n",
        "\n",
        "y_train=unravel_mask_list(y_train)\n",
        "y_test=unravel_mask_list(y_test)"
      ],
      "metadata": {
        "id": "45bBEFM_Vm7S"
      },
      "execution_count": 24,
      "outputs": []
    },
    {
      "cell_type": "code",
      "source": [
        "test = X_train[80]\n",
        "plt.imshow(test, cmap=\"gray\")\n",
        "plt.show()"
      ],
      "metadata": {
        "colab": {
          "base_uri": "https://localhost:8080/",
          "height": 269
        },
        "id": "cvA4ebV2T1jk",
        "outputId": "a7fcf63c-82de-46ea-cd50-1b724fd2c5eb"
      },
      "execution_count": 25,
      "outputs": [
        {
          "output_type": "display_data",
          "data": {
            "text/plain": [
              "<Figure size 432x288 with 1 Axes>"
            ],
            "image/png": "[encoded data removed]"
          },
          "metadata": {
            "needs_background": "light"
          }
        }
      ]
    },
    {
      "cell_type": "markdown",
      "source": [
        "Resize Images"
      ],
      "metadata": {
        "id": "ZrSy1Rlof6JV"
      }
    },
    {
      "cell_type": "code",
      "source": [
        "X_train2=[]\n",
        "for i in X_train:\n",
        "  X_train2.append(resize(i, (176, 256)))\n",
        "\n",
        "X_test2=[]\n",
        "for i in X_test:\n",
        "  X_test2.append(resize(i, (176, 256)))\n",
        "\n",
        "\n",
        "y_train2=[]\n",
        "for i in y_train:\n",
        "  y_train2.append(resize(i, (176, 256)))\n",
        "\n",
        "y_test2=[]\n",
        "for i in y_test:\n",
        "  y_test2.append(resize(i, (176, 256)))"
      ],
      "metadata": {
        "id": "2JdWoO6ka6v9"
      },
      "execution_count": 26,
      "outputs": []
    },
    {
      "cell_type": "code",
      "source": [
        "# dice index\n",
        "# ^ measures the overlap between manual and automatic segmentation \n",
        "\n",
        "def dice_coef(y_true, y_pred):\n",
        "    y_true_f = tf.keras.layers.Flatten()(y_true)\n",
        "    y_pred_f = tf.keras.layers.Flatten()(y_pred)\n",
        "    intersection = tf.keras.metrics.Sum()(y_true_f * y_pred_f)\n",
        "    return (2. * intersection + 1) / (tf.keras.metrics.Sum()(y_true_f) + tf.keras.metrics.Sum()(y_pred_f) + 1)\n",
        "\n",
        "def dice_coef_loss(y_true, y_pred):\n",
        "    return -dice_coef(y_true, y_pred)"
      ],
      "metadata": {
        "id": "dnN-OLGCR4jP"
      },
      "execution_count": 38,
      "outputs": []
    },
    {
      "cell_type": "code",
      "source": [
        "tf.keras.utils.get_custom_objects()['dice_coef'] = dice_coef\n",
        "tf.keras.utils.get_custom_objects()['dice_coef_loss'] = dice_coef_loss"
      ],
      "metadata": {
        "id": "0oDZu_iDBQMh"
      },
      "execution_count": 37,
      "outputs": []
    },
    {
      "cell_type": "code",
      "source": [
        "inputs = tf.keras.layers.Input((IMG_HEIGHT, IMG_WIDTH, IMG_CHANNELS))\n",
        "s = tf.keras.layers.Lambda(lambda x: x / 255)(inputs)\n",
        "\n",
        "# add batchnormalization \n",
        "\n",
        "# try only using dropout at deepest layer \n",
        "\n",
        "#Contraction path\n",
        "c1 = tf.keras.layers.Conv2D(16, (3, 3), activation='relu', kernel_initializer='he_normal', padding='same')(s)\n",
        "c1 = tf.keras.layers.Dropout(0.1)(c1)\n",
        "c1 = tf.keras.layers.Conv2D(16, (3, 3), activation='relu', kernel_initializer='he_normal', padding='same')(c1)\n",
        "p1 = tf.keras.layers.MaxPooling2D((2, 2))(c1)\n",
        "\n",
        "c2 = tf.keras.layers.Conv2D(32, (3, 3), activation='relu', kernel_initializer='he_normal', padding='same')(p1)\n",
        "c2 = tf.keras.layers.Dropout(0.1)(c2)\n",
        "c2 = tf.keras.layers.Conv2D(32, (3, 3), activation='relu', kernel_initializer='he_normal', padding='same')(c2)\n",
        "p2 = tf.keras.layers.MaxPooling2D((2, 2))(c2)\n",
        " \n",
        "c3 = tf.keras.layers.Conv2D(64, (3, 3), activation='relu', kernel_initializer='he_normal', padding='same')(p2)\n",
        "c3 = tf.keras.layers.Dropout(0.2)(c3)\n",
        "c3 = tf.keras.layers.Conv2D(64, (3, 3), activation='relu', kernel_initializer='he_normal', padding='same')(c3)\n",
        "p3 = tf.keras.layers.MaxPooling2D((2, 2))(c3)\n",
        " \n",
        "c4 = tf.keras.layers.Conv2D(128, (3, 3), activation='relu', kernel_initializer='he_normal', padding='same')(p3)\n",
        "c4 = tf.keras.layers.Dropout(0.2)(c4)\n",
        "c4 = tf.keras.layers.Conv2D(128, (3, 3), activation='relu', kernel_initializer='he_normal', padding='same')(c4)\n",
        "p4 = tf.keras.layers.MaxPooling2D(pool_size=(2, 2))(c4)\n",
        " \n",
        "c5 = tf.keras.layers.Conv2D(256, (3, 3), activation='relu', kernel_initializer='he_normal', padding='same')(p4)\n",
        "c5 = tf.keras.layers.Dropout(0.3)(c5)\n",
        "c5 = tf.keras.layers.Conv2D(256, (3, 3), activation='relu', kernel_initializer='he_normal', padding='same')(c5)\n",
        "\n",
        "#Expansive path \n",
        "u6 = tf.keras.layers.Conv2DTranspose(128, (2, 2), strides=(2, 2), padding='same')(c5)\n",
        "u6 = tf.keras.layers.concatenate([u6, c4])\n",
        "c6 = tf.keras.layers.Conv2D(128, (3, 3), activation='relu', kernel_initializer='he_normal', padding='same')(u6)\n",
        "c6 = tf.keras.layers.Dropout(0.2)(c6)\n",
        "c6 = tf.keras.layers.Conv2D(128, (3, 3), activation='relu', kernel_initializer='he_normal', padding='same')(c6)\n",
        " \n",
        "u7 = tf.keras.layers.Conv2DTranspose(64, (2, 2), strides=(2, 2), padding='same')(c6)\n",
        "u7 = tf.keras.layers.concatenate([u7, c3])\n",
        "c7 = tf.keras.layers.Conv2D(64, (3, 3), activation='relu', kernel_initializer='he_normal', padding='same')(u7)\n",
        "c7 = tf.keras.layers.Dropout(0.2)(c7)\n",
        "c7 = tf.keras.layers.Conv2D(64, (3, 3), activation='relu', kernel_initializer='he_normal', padding='same')(c7)\n",
        " \n",
        "u8 = tf.keras.layers.Conv2DTranspose(32, (2, 2), strides=(2, 2), padding='same')(c7)\n",
        "u8 = tf.keras.layers.concatenate([u8, c2])\n",
        "c8 = tf.keras.layers.Conv2D(32, (3, 3), activation='relu', kernel_initializer='he_normal', padding='same')(u8)\n",
        "c8 = tf.keras.layers.Dropout(0.1)(c8)\n",
        "c8 = tf.keras.layers.Conv2D(32, (3, 3), activation='relu', kernel_initializer='he_normal', padding='same')(c8)\n",
        " \n",
        "u9 = tf.keras.layers.Conv2DTranspose(16, (2, 2), strides=(2, 2), padding='same')(c8)\n",
        "u9 = tf.keras.layers.concatenate([u9, c1], axis=3)\n",
        "c9 = tf.keras.layers.Conv2D(16, (3, 3), activation='relu', kernel_initializer='he_normal', padding='same')(u9)\n",
        "c9 = tf.keras.layers.Dropout(0.1)(c9)\n",
        "c9 = tf.keras.layers.Conv2D(16, (3, 3), activation='relu', kernel_initializer='he_normal', padding='same')(c9)\n",
        " \n",
        "outputs = tf.keras.layers.Conv2D(1, (1, 1), activation='sigmoid')(c9)\n",
        " \n",
        "model = tf.keras.Model(inputs=[inputs], outputs=[outputs])\n",
        "model.compile(optimizer='adadelta', loss='dice_coef_loss', metrics=['dice_coef']) # similarity coefficient, Adadelta optimizer, dice for metric and loss function \n",
        "model.summary()"
      ],
      "metadata": {
        "colab": {
          "base_uri": "https://localhost:8080/"
        },
        "id": "HxLaB4f2syOp",
        "outputId": "88990a30-5937-4f32-dc9f-1af4af78f27d"
      },
      "execution_count": 41,
      "outputs": [
        {
          "output_type": "stream",
          "name": "stdout",
          "text": [
            "Model: \"model_2\"\n",
            "__________________________________________________________________________________________________\n",
            " Layer (type)                   Output Shape         Param #     Connected to                     \n",
            "==================================================================================================\n",
            " input_3 (InputLayer)           [(None, 176, 256, 1  0           []                               \n",
            "                                )]                                                                \n",
            "                                                                                                  \n",
            " lambda_2 (Lambda)              (None, 176, 256, 1)  0           ['input_3[0][0]']                \n",
            "                                                                                                  \n",
            " conv2d_38 (Conv2D)             (None, 176, 256, 16  160         ['lambda_2[0][0]']               \n",
            "                                )                                                                 \n",
            "                                                                                                  \n",
            " dropout_18 (Dropout)           (None, 176, 256, 16  0           ['conv2d_38[0][0]']              \n",
            "                                )                                                                 \n",
            "                                                                                                  \n",
            " conv2d_39 (Conv2D)             (None, 176, 256, 16  2320        ['dropout_18[0][0]']             \n",
            "                                )                                                                 \n",
            "                                                                                                  \n",
            " max_pooling2d_8 (MaxPooling2D)  (None, 88, 128, 16)  0          ['conv2d_39[0][0]']              \n",
            "                                                                                                  \n",
            " conv2d_40 (Conv2D)             (None, 88, 128, 32)  4640        ['max_pooling2d_8[0][0]']        \n",
            "                                                                                                  \n",
            " dropout_19 (Dropout)           (None, 88, 128, 32)  0           ['conv2d_40[0][0]']              \n",
            "                                                                                                  \n",
            " conv2d_41 (Conv2D)             (None, 88, 128, 32)  9248        ['dropout_19[0][0]']             \n",
            "                                                                                                  \n",
            " max_pooling2d_9 (MaxPooling2D)  (None, 44, 64, 32)  0           ['conv2d_41[0][0]']              \n",
            "                                                                                                  \n",
            " conv2d_42 (Conv2D)             (None, 44, 64, 64)   18496       ['max_pooling2d_9[0][0]']        \n",
            "                                                                                                  \n",
            " dropout_20 (Dropout)           (None, 44, 64, 64)   0           ['conv2d_42[0][0]']              \n",
            "                                                                                                  \n",
            " conv2d_43 (Conv2D)             (None, 44, 64, 64)   36928       ['dropout_20[0][0]']             \n",
            "                                                                                                  \n",
            " max_pooling2d_10 (MaxPooling2D  (None, 22, 32, 64)  0           ['conv2d_43[0][0]']              \n",
            " )                                                                                                \n",
            "                                                                                                  \n",
            " conv2d_44 (Conv2D)             (None, 22, 32, 128)  73856       ['max_pooling2d_10[0][0]']       \n",
            "                                                                                                  \n",
            " dropout_21 (Dropout)           (None, 22, 32, 128)  0           ['conv2d_44[0][0]']              \n",
            "                                                                                                  \n",
            " conv2d_45 (Conv2D)             (None, 22, 32, 128)  147584      ['dropout_21[0][0]']             \n",
            "                                                                                                  \n",
            " max_pooling2d_11 (MaxPooling2D  (None, 11, 16, 128)  0          ['conv2d_45[0][0]']              \n",
            " )                                                                                                \n",
            "                                                                                                  \n",
            " conv2d_46 (Conv2D)             (None, 11, 16, 256)  295168      ['max_pooling2d_11[0][0]']       \n",
            "                                                                                                  \n",
            " dropout_22 (Dropout)           (None, 11, 16, 256)  0           ['conv2d_46[0][0]']              \n",
            "                                                                                                  \n",
            " conv2d_47 (Conv2D)             (None, 11, 16, 256)  590080      ['dropout_22[0][0]']             \n",
            "                                                                                                  \n",
            " conv2d_transpose_8 (Conv2DTran  (None, 22, 32, 128)  131200     ['conv2d_47[0][0]']              \n",
            " spose)                                                                                           \n",
            "                                                                                                  \n",
            " concatenate_8 (Concatenate)    (None, 22, 32, 256)  0           ['conv2d_transpose_8[0][0]',     \n",
            "                                                                  'conv2d_45[0][0]']              \n",
            "                                                                                                  \n",
            " conv2d_48 (Conv2D)             (None, 22, 32, 128)  295040      ['concatenate_8[0][0]']          \n",
            "                                                                                                  \n",
            " dropout_23 (Dropout)           (None, 22, 32, 128)  0           ['conv2d_48[0][0]']              \n",
            "                                                                                                  \n",
            " conv2d_49 (Conv2D)             (None, 22, 32, 128)  147584      ['dropout_23[0][0]']             \n",
            "                                                                                                  \n",
            " conv2d_transpose_9 (Conv2DTran  (None, 44, 64, 64)  32832       ['conv2d_49[0][0]']              \n",
            " spose)                                                                                           \n",
            "                                                                                                  \n",
            " concatenate_9 (Concatenate)    (None, 44, 64, 128)  0           ['conv2d_transpose_9[0][0]',     \n",
            "                                                                  'conv2d_43[0][0]']              \n",
            "                                                                                                  \n",
            " conv2d_50 (Conv2D)             (None, 44, 64, 64)   73792       ['concatenate_9[0][0]']          \n",
            "                                                                                                  \n",
            " dropout_24 (Dropout)           (None, 44, 64, 64)   0           ['conv2d_50[0][0]']              \n",
            "                                                                                                  \n",
            " conv2d_51 (Conv2D)             (None, 44, 64, 64)   36928       ['dropout_24[0][0]']             \n",
            "                                                                                                  \n",
            " conv2d_transpose_10 (Conv2DTra  (None, 88, 128, 32)  8224       ['conv2d_51[0][0]']              \n",
            " nspose)                                                                                          \n",
            "                                                                                                  \n",
            " concatenate_10 (Concatenate)   (None, 88, 128, 64)  0           ['conv2d_transpose_10[0][0]',    \n",
            "                                                                  'conv2d_41[0][0]']              \n",
            "                                                                                                  \n",
            " conv2d_52 (Conv2D)             (None, 88, 128, 32)  18464       ['concatenate_10[0][0]']         \n",
            "                                                                                                  \n",
            " dropout_25 (Dropout)           (None, 88, 128, 32)  0           ['conv2d_52[0][0]']              \n",
            "                                                                                                  \n",
            " conv2d_53 (Conv2D)             (None, 88, 128, 32)  9248        ['dropout_25[0][0]']             \n",
            "                                                                                                  \n",
            " conv2d_transpose_11 (Conv2DTra  (None, 176, 256, 16  2064       ['conv2d_53[0][0]']              \n",
            " nspose)                        )                                                                 \n",
            "                                                                                                  \n",
            " concatenate_11 (Concatenate)   (None, 176, 256, 32  0           ['conv2d_transpose_11[0][0]',    \n",
            "                                )                                 'conv2d_39[0][0]']              \n",
            "                                                                                                  \n",
            " conv2d_54 (Conv2D)             (None, 176, 256, 16  4624        ['concatenate_11[0][0]']         \n",
            "                                )                                                                 \n",
            "                                                                                                  \n",
            " dropout_26 (Dropout)           (None, 176, 256, 16  0           ['conv2d_54[0][0]']              \n",
            "                                )                                                                 \n",
            "                                                                                                  \n",
            " conv2d_55 (Conv2D)             (None, 176, 256, 16  2320        ['dropout_26[0][0]']             \n",
            "                                )                                                                 \n",
            "                                                                                                  \n",
            " conv2d_56 (Conv2D)             (None, 176, 256, 1)  17          ['conv2d_55[0][0]']              \n",
            "                                                                                                  \n",
            "==================================================================================================\n",
            "Total params: 1,940,817\n",
            "Trainable params: 1,940,817\n",
            "Non-trainable params: 0\n",
            "__________________________________________________________________________________________________\n"
          ]
        }
      ]
    },
    {
      "cell_type": "code",
      "source": [
        "# rule of thumb is # of data is 1/10 of trainable parameters"
      ],
      "metadata": {
        "id": "YOLEwo4TUWuZ"
      },
      "execution_count": 30,
      "outputs": []
    },
    {
      "cell_type": "markdown",
      "source": [
        "Convert image arrays to single array with the first dimension being the number of samples"
      ],
      "metadata": {
        "id": "ofAPVhOucQmf"
      }
    },
    {
      "cell_type": "code",
      "source": [
        "X_train2 = np.stack(X_train2, axis=0)\n",
        "X_test2 = np.stack(X_test2, axis=0)\n",
        "\n",
        "y_train2 = np.stack(y_train2, axis=0)\n",
        "y_test2 = np.stack(y_test2, axis=0)"
      ],
      "metadata": {
        "id": "1WFtBNOTX_44"
      },
      "execution_count": 31,
      "outputs": []
    },
    {
      "cell_type": "markdown",
      "source": [
        "Building the model"
      ],
      "metadata": {
        "id": "my2uQgwHyYzk"
      }
    },
    {
      "cell_type": "code",
      "source": [
        "results = model.fit(X_train2, y_train2, validation_split=0.1, batch_size=16, epochs=25) # 100 to 150 epochs "
      ],
      "metadata": {
        "colab": {
          "base_uri": "https://localhost:8080/",
          "height": 800
        },
        "id": "ZdIBq-PSsyRT",
        "outputId": "280be290-c8ea-4415-dc55-088d1a3df038"
      },
      "execution_count": 39,
      "outputs": [
        {
          "output_type": "stream",
          "name": "stdout",
          "text": [
            "Epoch 1/25\n"
          ]
        },
        {
          "output_type": "error",
          "ename": "ValueError",
          "evalue": "ignored",
          "traceback": [
            "\u001b[0;31m---------------------------------------------------------------------------\u001b[0m",
            "\u001b[0;31mValueError\u001b[0m                                Traceback (most recent call last)",
            "\u001b[0;32m<ipython-input-39-64a5294fccf8>\u001b[0m in \u001b[0;36m<module>\u001b[0;34m\u001b[0m\n\u001b[0;32m----> 1\u001b[0;31m \u001b[0mresults\u001b[0m \u001b[0;34m=\u001b[0m \u001b[0mmodel\u001b[0m\u001b[0;34m.\u001b[0m\u001b[0mfit\u001b[0m\u001b[0;34m(\u001b[0m\u001b[0mX_train2\u001b[0m\u001b[0;34m,\u001b[0m \u001b[0my_train2\u001b[0m\u001b[0;34m,\u001b[0m \u001b[0mvalidation_split\u001b[0m\u001b[0;34m=\u001b[0m\u001b[0;36m0.1\u001b[0m\u001b[0;34m,\u001b[0m \u001b[0mbatch_size\u001b[0m\u001b[0;34m=\u001b[0m\u001b[0;36m16\u001b[0m\u001b[0;34m,\u001b[0m \u001b[0mepochs\u001b[0m\u001b[0;34m=\u001b[0m\u001b[0;36m25\u001b[0m\u001b[0;34m)\u001b[0m \u001b[0;31m# 100 to 150 epochs\u001b[0m\u001b[0;34m\u001b[0m\u001b[0;34m\u001b[0m\u001b[0m\n\u001b[0m",
            "\u001b[0;32m/usr/local/lib/python3.8/dist-packages/keras/utils/traceback_utils.py\u001b[0m in \u001b[0;36merror_handler\u001b[0;34m(*args, **kwargs)\u001b[0m\n\u001b[1;32m     65\u001b[0m     \u001b[0;32mexcept\u001b[0m \u001b[0mException\u001b[0m \u001b[0;32mas\u001b[0m \u001b[0me\u001b[0m\u001b[0;34m:\u001b[0m  \u001b[0;31m# pylint: disable=broad-except\u001b[0m\u001b[0;34m\u001b[0m\u001b[0;34m\u001b[0m\u001b[0m\n\u001b[1;32m     66\u001b[0m       \u001b[0mfiltered_tb\u001b[0m \u001b[0;34m=\u001b[0m \u001b[0m_process_traceback_frames\u001b[0m\u001b[0;34m(\u001b[0m\u001b[0me\u001b[0m\u001b[0;34m.\u001b[0m\u001b[0m__traceback__\u001b[0m\u001b[0;34m)\u001b[0m\u001b[0;34m\u001b[0m\u001b[0;34m\u001b[0m\u001b[0m\n\u001b[0;32m---> 67\u001b[0;31m       \u001b[0;32mraise\u001b[0m \u001b[0me\u001b[0m\u001b[0;34m.\u001b[0m\u001b[0mwith_traceback\u001b[0m\u001b[0;34m(\u001b[0m\u001b[0mfiltered_tb\u001b[0m\u001b[0;34m)\u001b[0m \u001b[0;32mfrom\u001b[0m \u001b[0;32mNone\u001b[0m\u001b[0;34m\u001b[0m\u001b[0;34m\u001b[0m\u001b[0m\n\u001b[0m\u001b[1;32m     68\u001b[0m     \u001b[0;32mfinally\u001b[0m\u001b[0;34m:\u001b[0m\u001b[0;34m\u001b[0m\u001b[0;34m\u001b[0m\u001b[0m\n\u001b[1;32m     69\u001b[0m       \u001b[0;32mdel\u001b[0m \u001b[0mfiltered_tb\u001b[0m\u001b[0;34m\u001b[0m\u001b[0;34m\u001b[0m\u001b[0m\n",
            "\u001b[0;32m/usr/local/lib/python3.8/dist-packages/keras/engine/training.py\u001b[0m in \u001b[0;36mtf__train_function\u001b[0;34m(iterator)\u001b[0m\n\u001b[1;32m     13\u001b[0m                 \u001b[0;32mtry\u001b[0m\u001b[0;34m:\u001b[0m\u001b[0;34m\u001b[0m\u001b[0;34m\u001b[0m\u001b[0m\n\u001b[1;32m     14\u001b[0m                     \u001b[0mdo_return\u001b[0m \u001b[0;34m=\u001b[0m \u001b[0;32mTrue\u001b[0m\u001b[0;34m\u001b[0m\u001b[0;34m\u001b[0m\u001b[0m\n\u001b[0;32m---> 15\u001b[0;31m                     \u001b[0mretval_\u001b[0m \u001b[0;34m=\u001b[0m \u001b[0mag__\u001b[0m\u001b[0;34m.\u001b[0m\u001b[0mconverted_call\u001b[0m\u001b[0;34m(\u001b[0m\u001b[0mag__\u001b[0m\u001b[0;34m.\u001b[0m\u001b[0mld\u001b[0m\u001b[0;34m(\u001b[0m\u001b[0mstep_function\u001b[0m\u001b[0;34m)\u001b[0m\u001b[0;34m,\u001b[0m \u001b[0;34m(\u001b[0m\u001b[0mag__\u001b[0m\u001b[0;34m.\u001b[0m\u001b[0mld\u001b[0m\u001b[0;34m(\u001b[0m\u001b[0mself\u001b[0m\u001b[0;34m)\u001b[0m\u001b[0;34m,\u001b[0m \u001b[0mag__\u001b[0m\u001b[0;34m.\u001b[0m\u001b[0mld\u001b[0m\u001b[0;34m(\u001b[0m\u001b[0miterator\u001b[0m\u001b[0;34m)\u001b[0m\u001b[0;34m)\u001b[0m\u001b[0;34m,\u001b[0m \u001b[0;32mNone\u001b[0m\u001b[0;34m,\u001b[0m \u001b[0mfscope\u001b[0m\u001b[0;34m)\u001b[0m\u001b[0;34m\u001b[0m\u001b[0;34m\u001b[0m\u001b[0m\n\u001b[0m\u001b[1;32m     16\u001b[0m                 \u001b[0;32mexcept\u001b[0m\u001b[0;34m:\u001b[0m\u001b[0;34m\u001b[0m\u001b[0;34m\u001b[0m\u001b[0m\n\u001b[1;32m     17\u001b[0m                     \u001b[0mdo_return\u001b[0m \u001b[0;34m=\u001b[0m \u001b[0;32mFalse\u001b[0m\u001b[0;34m\u001b[0m\u001b[0;34m\u001b[0m\u001b[0m\n",
            "\u001b[0;31mValueError\u001b[0m: in user code:\n\n    File \"/usr/local/lib/python3.8/dist-packages/keras/engine/training.py\", line 1051, in train_function  *\n        return step_function(self, iterator)\n    File \"/usr/local/lib/python3.8/dist-packages/keras/engine/training.py\", line 1040, in step_function  **\n        outputs = model.distribute_strategy.run(run_step, args=(data,))\n    File \"/usr/local/lib/python3.8/dist-packages/keras/engine/training.py\", line 1030, in run_step  **\n        outputs = model.train_step(data)\n    File \"/usr/local/lib/python3.8/dist-packages/keras/engine/training.py\", line 893, in train_step\n        self.optimizer.minimize(loss, self.trainable_variables, tape=tape)\n    File \"/usr/local/lib/python3.8/dist-packages/keras/optimizers/optimizer_v2/optimizer_v2.py\", line 539, in minimize\n        return self.apply_gradients(grads_and_vars, name=name)\n    File \"/usr/local/lib/python3.8/dist-packages/keras/optimizers/optimizer_v2/optimizer_v2.py\", line 640, in apply_gradients\n        grads_and_vars = optimizer_utils.filter_empty_gradients(grads_and_vars)\n    File \"/usr/local/lib/python3.8/dist-packages/keras/optimizers/optimizer_v2/utils.py\", line 73, in filter_empty_gradients\n        raise ValueError(f\"No gradients provided for any variable: {variable}. \"\n\n    ValueError: No gradients provided for any variable: (['conv2d/kernel:0', 'conv2d/bias:0', 'conv2d_1/kernel:0', 'conv2d_1/bias:0', 'conv2d_2/kernel:0', 'conv2d_2/bias:0', 'conv2d_3/kernel:0', 'conv2d_3/bias:0', 'conv2d_4/kernel:0', 'conv2d_4/bias:0', 'conv2d_5/kernel:0', 'conv2d_5/bias:0', 'conv2d_6/kernel:0', 'conv2d_6/bias:0', 'conv2d_7/kernel:0', 'conv2d_7/bias:0', 'conv2d_8/kernel:0', 'conv2d_8/bias:0', 'conv2d_9/kernel:0', 'conv2d_9/bias:0', 'conv2d_transpose/kernel:0', 'conv2d_transpose/bias:0', 'conv2d_10/kernel:0', 'conv2d_10/bias:0', 'conv2d_11/kernel:0', 'conv2d_11/bias:0', 'conv2d_transpose_1/kernel:0', 'conv2d_transpose_1/bias:0', 'conv2d_12/kernel:0', 'conv2d_12/bias:0', 'conv2d_13/kernel:0', 'conv2d_13/bias:0', 'conv2d_transpose_2/kernel:0', 'conv2d_transpose_2/bias:0', 'conv2d_14/kernel:0', 'conv2d_14/bias:0', 'conv2d_15/kernel:0', 'conv2d_15/bias:0', 'conv2d_transpose_3/kernel:0', 'conv2d_transpose_3/bias:0', 'conv2d_16/kernel:0', 'conv2d_16/bias:0', 'conv2d_17/kernel:0', 'conv2d_17/bias:0', 'conv2d_18/kernel:0', 'conv2d_18/bias:0'],). Provided `grads_and_vars` is ((None, <tf.Variable 'conv2d/kernel:0' shape=(3, 3, 1, 16) dtype=float32>), (None, <tf.Variable 'conv2d/bias:0' shape=(16,) dtype=float32>), (None, <tf.Variable 'conv2d_1/kernel:0' shape=(3, 3, 16, 16) dtype=float32>), (None, <tf.Variable 'conv2d_1/bias:0' shape=(16,) dtype=float32>), (None, <tf.Variable 'conv2d_2/kernel:0' shape=(3, 3, 16, 32) dtype=float32>), (None, <tf.Variable 'conv2d_2/bia...\n"
          ]
        }
      ]
    },
    {
      "cell_type": "code",
      "source": [],
      "metadata": {
        "id": "fosUL3qYDVSu"
      },
      "execution_count": null,
      "outputs": []
    },
    {
      "cell_type": "code",
      "source": [],
      "metadata": {
        "id": "A6_bTW1oDVb7"
      },
      "execution_count": null,
      "outputs": []
    },
    {
      "cell_type": "code",
      "source": [],
      "metadata": {
        "id": "7dC2O7uQDVep"
      },
      "execution_count": null,
      "outputs": []
    },
    {
      "cell_type": "code",
      "source": [],
      "metadata": {
        "id": "AO8VlovgDVhQ"
      },
      "execution_count": null,
      "outputs": []
    },
    {
      "cell_type": "code",
      "source": [
        "X_train, X_test, y_train, y_test = train_test_split(final_images, masks, test_size=0.20, random_state=42)"
      ],
      "metadata": {
        "id": "s06Ix3wZovvW"
      },
      "execution_count": 24,
      "outputs": []
    },
    {
      "cell_type": "code",
      "source": [
        "len(X_test) # 9 segmentations will be used for the test set and 33 will be used for the training test "
      ],
      "metadata": {
        "colab": {
          "base_uri": "https://localhost:8080/"
        },
        "id": "cGxnt8FPo4zc",
        "outputId": "adade03f-6580-4bae-fdea-a0ce1f2bc894"
      },
      "execution_count": 25,
      "outputs": [
        {
          "output_type": "execute_result",
          "data": {
            "text/plain": [
              "9"
            ]
          },
          "metadata": {},
          "execution_count": 25
        }
      ]
    },
    {
      "cell_type": "code",
      "source": [
        "model=unet((IMG_HEIGHT, IMG_WIDTH, IMG_CHANNELS))\n",
        "model.compile(optimizer='adam', loss='binary_crossentropy', metrics=['accuracy'])\n",
        "model.summary()"
      ],
      "metadata": {
        "colab": {
          "base_uri": "https://localhost:8080/"
        },
        "id": "BEM2xttXZ8sx",
        "outputId": "df7b20bd-73fd-49ca-9a3e-1ec44957c115"
      },
      "execution_count": 106,
      "outputs": [
        {
          "output_type": "stream",
          "name": "stdout",
          "text": [
            "Model: \"UNET\"\n",
            "__________________________________________________________________________________________________\n",
            " Layer (type)                   Output Shape         Param #     Connected to                     \n",
            "==================================================================================================\n",
            " input_5 (InputLayer)           [(None, 176, 256, 1  0           []                               \n",
            "                                )]                                                                \n",
            "                                                                                                  \n",
            " conv2d_59 (Conv2D)             (None, 176, 256, 16  160         ['input_5[0][0]']                \n",
            "                                )                                                                 \n",
            "                                                                                                  \n",
            " dropout_28 (Dropout)           (None, 176, 256, 16  0           ['conv2d_59[0][0]']              \n",
            "                                )                                                                 \n",
            "                                                                                                  \n",
            " max_pooling2d_12 (MaxPooling2D  (None, 88, 128, 16)  0          ['dropout_28[0][0]']             \n",
            " )                                                                                                \n",
            "                                                                                                  \n",
            " conv2d_61 (Conv2D)             (None, 88, 128, 32)  4640        ['max_pooling2d_12[0][0]']       \n",
            "                                                                                                  \n",
            " dropout_30 (Dropout)           (None, 88, 128, 32)  0           ['conv2d_61[0][0]']              \n",
            "                                                                                                  \n",
            " max_pooling2d_13 (MaxPooling2D  (None, 44, 64, 32)  0           ['dropout_30[0][0]']             \n",
            " )                                                                                                \n",
            "                                                                                                  \n",
            " conv2d_63 (Conv2D)             (None, 44, 64, 64)   18496       ['max_pooling2d_13[0][0]']       \n",
            "                                                                                                  \n",
            " dropout_32 (Dropout)           (None, 44, 64, 64)   0           ['conv2d_63[0][0]']              \n",
            "                                                                                                  \n",
            " max_pooling2d_14 (MaxPooling2D  (None, 22, 32, 64)  0           ['dropout_32[0][0]']             \n",
            " )                                                                                                \n",
            "                                                                                                  \n",
            " conv2d_65 (Conv2D)             (None, 22, 32, 128)  73856       ['max_pooling2d_14[0][0]']       \n",
            "                                                                                                  \n",
            " dropout_34 (Dropout)           (None, 22, 32, 128)  0           ['conv2d_65[0][0]']              \n",
            "                                                                                                  \n",
            " max_pooling2d_15 (MaxPooling2D  (None, 11, 16, 128)  0          ['dropout_34[0][0]']             \n",
            " )                                                                                                \n",
            "                                                                                                  \n",
            " conv2d_67 (Conv2D)             (None, 11, 16, 256)  295168      ['max_pooling2d_15[0][0]']       \n",
            "                                                                                                  \n",
            " dropout_36 (Dropout)           (None, 11, 16, 256)  0           ['conv2d_67[0][0]']              \n",
            "                                                                                                  \n",
            " conv2d_transpose_12 (Conv2DTra  (None, 22, 32, 128)  131200     ['dropout_36[0][0]']             \n",
            " nspose)                                                                                          \n",
            "                                                                                                  \n",
            " concatenate_12 (Concatenate)   (None, 22, 32, 256)  0           ['conv2d_transpose_12[0][0]',    \n",
            "                                                                  'dropout_34[0][0]']             \n",
            "                                                                                                  \n",
            " conv2d_69 (Conv2D)             (None, 22, 32, 128)  295040      ['concatenate_12[0][0]']         \n",
            "                                                                                                  \n",
            " dropout_38 (Dropout)           (None, 22, 32, 128)  0           ['conv2d_69[0][0]']              \n",
            "                                                                                                  \n",
            " conv2d_transpose_13 (Conv2DTra  (None, 44, 64, 64)  32832       ['dropout_38[0][0]']             \n",
            " nspose)                                                                                          \n",
            "                                                                                                  \n",
            " concatenate_13 (Concatenate)   (None, 44, 64, 128)  0           ['conv2d_transpose_13[0][0]',    \n",
            "                                                                  'dropout_32[0][0]']             \n",
            "                                                                                                  \n",
            " conv2d_71 (Conv2D)             (None, 44, 64, 64)   73792       ['concatenate_13[0][0]']         \n",
            "                                                                                                  \n",
            " dropout_40 (Dropout)           (None, 44, 64, 64)   0           ['conv2d_71[0][0]']              \n",
            "                                                                                                  \n",
            " conv2d_transpose_14 (Conv2DTra  (None, 88, 128, 32)  8224       ['dropout_40[0][0]']             \n",
            " nspose)                                                                                          \n",
            "                                                                                                  \n",
            " concatenate_14 (Concatenate)   (None, 88, 128, 64)  0           ['conv2d_transpose_14[0][0]',    \n",
            "                                                                  'dropout_30[0][0]']             \n",
            "                                                                                                  \n",
            " conv2d_73 (Conv2D)             (None, 88, 128, 32)  18464       ['concatenate_14[0][0]']         \n",
            "                                                                                                  \n",
            " dropout_42 (Dropout)           (None, 88, 128, 32)  0           ['conv2d_73[0][0]']              \n",
            "                                                                                                  \n",
            " conv2d_transpose_15 (Conv2DTra  (None, 176, 256, 16  2064       ['dropout_42[0][0]']             \n",
            " nspose)                        )                                                                 \n",
            "                                                                                                  \n",
            " concatenate_15 (Concatenate)   (None, 176, 256, 32  0           ['conv2d_transpose_15[0][0]',    \n",
            "                                )                                 'dropout_28[0][0]']             \n",
            "                                                                                                  \n",
            " conv2d_75 (Conv2D)             (None, 176, 256, 16  4624        ['concatenate_15[0][0]']         \n",
            "                                )                                                                 \n",
            "                                                                                                  \n",
            " dropout_44 (Dropout)           (None, 176, 256, 16  0           ['conv2d_75[0][0]']              \n",
            "                                )                                                                 \n",
            "                                                                                                  \n",
            " conv2d_76 (Conv2D)             (None, 176, 256, 1)  17          ['dropout_44[0][0]']             \n",
            "                                                                                                  \n",
            "==================================================================================================\n",
            "Total params: 958,577\n",
            "Trainable params: 958,577\n",
            "Non-trainable params: 0\n",
            "__________________________________________________________________________________________________\n"
          ]
        }
      ]
    },
    {
      "cell_type": "code",
      "source": [
        "results=model.fit(X_train2,y_train2, validation_split=0.1, batch_size=32, epochs=10)"
      ],
      "metadata": {
        "id": "qsnEGKnc7R8t"
      },
      "execution_count": null,
      "outputs": []
    },
    {
      "cell_type": "code",
      "source": [],
      "metadata": {
        "id": "ZZv6wWrSph0I"
      },
      "execution_count": null,
      "outputs": []
    },
    {
      "cell_type": "code",
      "source": [],
      "metadata": {
        "id": "VHarmqjHpiFx"
      },
      "execution_count": null,
      "outputs": []
    },
    {
      "cell_type": "code",
      "source": [],
      "metadata": {
        "id": "QwXMhNg4phxg"
      },
      "execution_count": null,
      "outputs": []
    },
    {
      "cell_type": "markdown",
      "source": [
        "EXTRAS"
      ],
      "metadata": {
        "id": "PjXh0DVspiej"
      }
    },
    {
      "cell_type": "code",
      "source": [
        "X_train, y_train, X_test, y_test = train_test_split(model_images, model_masks, test_size=0.33, random_state=42)"
      ],
      "metadata": {
        "id": "c99tzwW2XJHF"
      },
      "execution_count": 21,
      "outputs": []
    },
    {
      "cell_type": "markdown",
      "source": [
        "All masks in one dimensional list"
      ],
      "metadata": {
        "id": "BA7ftbFpXVPb"
      }
    },
    {
      "cell_type": "code",
      "source": [
        "all_masks=[]\n",
        "for i in range(len(masks)):\n",
        "  for j in range((masks[i].shape)[2]):\n",
        "    all_masks.append(masks[i][:,:,j])\n",
        "print(len(all_masks))"
      ],
      "metadata": {
        "colab": {
          "base_uri": "https://localhost:8080/"
        },
        "id": "HhbWqEAzXUj1",
        "outputId": "adf04ff1-5d6c-440a-bc66-31f66fae53f9"
      },
      "execution_count": 32,
      "outputs": [
        {
          "output_type": "stream",
          "name": "stdout",
          "text": [
            "5000\n"
          ]
        }
      ]
    },
    {
      "cell_type": "markdown",
      "source": [
        "All dicom images in one dimensional list"
      ],
      "metadata": {
        "id": "0j3MMlboXOM0"
      }
    },
    {
      "cell_type": "code",
      "source": [
        "all_images=[]\n",
        "\n",
        "for i in range(len(final_images)):\n",
        "  for j in range(len(final_images[i])):\n",
        "    all_images.append(final_images[i][j])\n",
        "print(len(all_images))"
      ],
      "metadata": {
        "colab": {
          "base_uri": "https://localhost:8080/"
        },
        "id": "PEFcHZBEZq5R",
        "outputId": "f7f6fac2-78af-4074-b1f5-02ac02283941"
      },
      "execution_count": 33,
      "outputs": [
        {
          "output_type": "stream",
          "name": "stdout",
          "text": [
            "5000\n"
          ]
        }
      ]
    },
    {
      "cell_type": "markdown",
      "source": [
        "Resize all images (do we want to do this?)"
      ],
      "metadata": {
        "id": "KGE8vb8Epn1g"
      }
    },
    {
      "cell_type": "code",
      "source": [
        "model_masks=[]\n",
        "for i in all_masks:\n",
        "  model_masks.append(resize(i, (128, 128)))\n",
        "\n",
        "model_images=[]\n",
        "for i in all_images:\n",
        "  model_images.append(resize(i, (128, 128)))"
      ],
      "metadata": {
        "id": "LjY5HKSqpmnh"
      },
      "execution_count": 18,
      "outputs": []
    }
  ]
}